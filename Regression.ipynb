{
  "nbformat": 4,
  "nbformat_minor": 0,
  "metadata": {
    "colab": {
      "provenance": []
    },
    "kernelspec": {
      "name": "python3",
      "display_name": "Python 3"
    },
    "language_info": {
      "name": "python"
    },
    "widgets": {
      "application/vnd.jupyter.widget-state+json": {
        "7ba348b13c884eee9a5d8b88615f98bc": {
          "model_module": "@jupyter-widgets/controls",
          "model_name": "VBoxModel",
          "model_module_version": "1.5.0",
          "state": {
            "_dom_classes": [
              "widget-interact"
            ],
            "_model_module": "@jupyter-widgets/controls",
            "_model_module_version": "1.5.0",
            "_model_name": "VBoxModel",
            "_view_count": null,
            "_view_module": "@jupyter-widgets/controls",
            "_view_module_version": "1.5.0",
            "_view_name": "VBoxView",
            "box_style": "",
            "children": [
              "IPY_MODEL_79771773d835449f880eb9e9616b319d",
              "IPY_MODEL_e678d975d5754b86abd0711aff53978c",
              "IPY_MODEL_ed8c38c9d1814150be24f991baf47b11",
              "IPY_MODEL_6f4a122c7a2046a8abe7f4f255cb6937",
              "IPY_MODEL_30947a6e8e944caea87e5a9fb0efd17b"
            ],
            "layout": "IPY_MODEL_9fa06845b9274f76a4866f7b633b8a4c"
          }
        },
        "79771773d835449f880eb9e9616b319d": {
          "model_module": "@jupyter-widgets/controls",
          "model_name": "IntSliderModel",
          "model_module_version": "1.5.0",
          "state": {
            "_dom_classes": [],
            "_model_module": "@jupyter-widgets/controls",
            "_model_module_version": "1.5.0",
            "_model_name": "IntSliderModel",
            "_view_count": null,
            "_view_module": "@jupyter-widgets/controls",
            "_view_module_version": "1.5.0",
            "_view_name": "IntSliderView",
            "continuous_update": true,
            "description": "area",
            "description_tooltip": null,
            "disabled": false,
            "layout": "IPY_MODEL_2a7162996d574836acf02cabf4335969",
            "max": 290,
            "min": 22,
            "orientation": "horizontal",
            "readout": true,
            "readout_format": "d",
            "step": 1,
            "style": "IPY_MODEL_0d1b4f4e623e452a90b22f6a0d519302",
            "value": 151
          }
        },
        "e678d975d5754b86abd0711aff53978c": {
          "model_module": "@jupyter-widgets/controls",
          "model_name": "FloatSliderModel",
          "model_module_version": "1.5.0",
          "state": {
            "_dom_classes": [],
            "_model_module": "@jupyter-widgets/controls",
            "_model_module_version": "1.5.0",
            "_model_name": "FloatSliderModel",
            "_view_count": null,
            "_view_module": "@jupyter-widgets/controls",
            "_view_module_version": "1.5.0",
            "_view_name": "FloatSliderView",
            "continuous_update": true,
            "description": "lat",
            "description_tooltip": null,
            "disabled": false,
            "layout": "IPY_MODEL_3596510c0a9246b4bc1b7a8f5a239e93",
            "max": -34.541401,
            "min": -34.684961,
            "orientation": "horizontal",
            "readout": true,
            "readout_format": ".2f",
            "step": 0.01,
            "style": "IPY_MODEL_61d51e406289470cb4712a7d71442a45",
            "value": -34.61892396098509
          }
        },
        "ed8c38c9d1814150be24f991baf47b11": {
          "model_module": "@jupyter-widgets/controls",
          "model_name": "FloatSliderModel",
          "model_module_version": "1.5.0",
          "state": {
            "_dom_classes": [],
            "_model_module": "@jupyter-widgets/controls",
            "_model_module_version": "1.5.0",
            "_model_name": "FloatSliderModel",
            "_view_count": null,
            "_view_module": "@jupyter-widgets/controls",
            "_view_module_version": "1.5.0",
            "_view_name": "FloatSliderView",
            "continuous_update": true,
            "description": "lon",
            "description_tooltip": null,
            "disabled": false,
            "layout": "IPY_MODEL_e2dd4bd1a44c4148819ef2a2c02e8aa7",
            "max": -58.3619026,
            "min": -58.538654,
            "orientation": "horizontal",
            "readout": true,
            "readout_format": ".2f",
            "step": 0.01,
            "style": "IPY_MODEL_b8823e6855ce4baa82a1db85b9081b8a",
            "value": -58.47327911213098
          }
        },
        "6f4a122c7a2046a8abe7f4f255cb6937": {
          "model_module": "@jupyter-widgets/controls",
          "model_name": "DropdownModel",
          "model_module_version": "1.5.0",
          "state": {
            "_dom_classes": [],
            "_model_module": "@jupyter-widgets/controls",
            "_model_module_version": "1.5.0",
            "_model_name": "DropdownModel",
            "_options_labels": [
              "",
              "Agronomía",
              "Almagro",
              "Barracas",
              "Barrio Norte",
              "Belgrano",
              "Boca",
              "Boedo",
              "Caballito",
              "Coghlan",
              "Colegiales",
              "Constitución",
              "Flores",
              "Floresta",
              "Liniers",
              "Mataderos",
              "Monserrat",
              "Monte Castro",
              "Nuñez",
              "Palermo",
              "Parque Avellaneda",
              "Parque Chacabuco",
              "Parque Chas",
              "Parque Patricios",
              "Paternal",
              "Recoleta",
              "Retiro",
              "Saavedra",
              "San Cristobal",
              "San Nicolás",
              "San Telmo",
              "Velez Sarsfield",
              "Versalles",
              "Villa Crespo",
              "Villa Devoto",
              "Villa General Mitre",
              "Villa Lugano",
              "Villa Luro",
              "Villa Ortuzar",
              "Villa Pueyrredón",
              "Villa Real",
              "Villa Urquiza",
              "Villa del Parque"
            ],
            "_view_count": null,
            "_view_module": "@jupyter-widgets/controls",
            "_view_module_version": "1.5.0",
            "_view_name": "DropdownView",
            "description": "neighborhood",
            "description_tooltip": null,
            "disabled": false,
            "index": 6,
            "layout": "IPY_MODEL_832bd75c01c041ec92ef5c335079aaa4",
            "style": "IPY_MODEL_86776a9d12b14ab39926d2f0aac54290"
          }
        },
        "30947a6e8e944caea87e5a9fb0efd17b": {
          "model_module": "@jupyter-widgets/output",
          "model_name": "OutputModel",
          "model_module_version": "1.0.0",
          "state": {
            "_dom_classes": [],
            "_model_module": "@jupyter-widgets/output",
            "_model_module_version": "1.0.0",
            "_model_name": "OutputModel",
            "_view_count": null,
            "_view_module": "@jupyter-widgets/output",
            "_view_module_version": "1.0.0",
            "_view_name": "OutputView",
            "layout": "IPY_MODEL_29e1e623c89444bdb2c46b819852e3d4",
            "msg_id": "",
            "outputs": [
              {
                "output_type": "display_data",
                "data": {
                  "text/plain": "'Predicted house price: $254774.3'",
                  "application/vnd.google.colaboratory.intrinsic+json": {
                    "type": "string"
                  }
                },
                "metadata": {}
              }
            ]
          }
        },
        "9fa06845b9274f76a4866f7b633b8a4c": {
          "model_module": "@jupyter-widgets/base",
          "model_name": "LayoutModel",
          "model_module_version": "1.2.0",
          "state": {
            "_model_module": "@jupyter-widgets/base",
            "_model_module_version": "1.2.0",
            "_model_name": "LayoutModel",
            "_view_count": null,
            "_view_module": "@jupyter-widgets/base",
            "_view_module_version": "1.2.0",
            "_view_name": "LayoutView",
            "align_content": null,
            "align_items": null,
            "align_self": null,
            "border": null,
            "bottom": null,
            "display": null,
            "flex": null,
            "flex_flow": null,
            "grid_area": null,
            "grid_auto_columns": null,
            "grid_auto_flow": null,
            "grid_auto_rows": null,
            "grid_column": null,
            "grid_gap": null,
            "grid_row": null,
            "grid_template_areas": null,
            "grid_template_columns": null,
            "grid_template_rows": null,
            "height": null,
            "justify_content": null,
            "justify_items": null,
            "left": null,
            "margin": null,
            "max_height": null,
            "max_width": null,
            "min_height": null,
            "min_width": null,
            "object_fit": null,
            "object_position": null,
            "order": null,
            "overflow": null,
            "overflow_x": null,
            "overflow_y": null,
            "padding": null,
            "right": null,
            "top": null,
            "visibility": null,
            "width": null
          }
        },
        "2a7162996d574836acf02cabf4335969": {
          "model_module": "@jupyter-widgets/base",
          "model_name": "LayoutModel",
          "model_module_version": "1.2.0",
          "state": {
            "_model_module": "@jupyter-widgets/base",
            "_model_module_version": "1.2.0",
            "_model_name": "LayoutModel",
            "_view_count": null,
            "_view_module": "@jupyter-widgets/base",
            "_view_module_version": "1.2.0",
            "_view_name": "LayoutView",
            "align_content": null,
            "align_items": null,
            "align_self": null,
            "border": null,
            "bottom": null,
            "display": null,
            "flex": null,
            "flex_flow": null,
            "grid_area": null,
            "grid_auto_columns": null,
            "grid_auto_flow": null,
            "grid_auto_rows": null,
            "grid_column": null,
            "grid_gap": null,
            "grid_row": null,
            "grid_template_areas": null,
            "grid_template_columns": null,
            "grid_template_rows": null,
            "height": null,
            "justify_content": null,
            "justify_items": null,
            "left": null,
            "margin": null,
            "max_height": null,
            "max_width": null,
            "min_height": null,
            "min_width": null,
            "object_fit": null,
            "object_position": null,
            "order": null,
            "overflow": null,
            "overflow_x": null,
            "overflow_y": null,
            "padding": null,
            "right": null,
            "top": null,
            "visibility": null,
            "width": null
          }
        },
        "0d1b4f4e623e452a90b22f6a0d519302": {
          "model_module": "@jupyter-widgets/controls",
          "model_name": "SliderStyleModel",
          "model_module_version": "1.5.0",
          "state": {
            "_model_module": "@jupyter-widgets/controls",
            "_model_module_version": "1.5.0",
            "_model_name": "SliderStyleModel",
            "_view_count": null,
            "_view_module": "@jupyter-widgets/base",
            "_view_module_version": "1.2.0",
            "_view_name": "StyleView",
            "description_width": "",
            "handle_color": null
          }
        },
        "3596510c0a9246b4bc1b7a8f5a239e93": {
          "model_module": "@jupyter-widgets/base",
          "model_name": "LayoutModel",
          "model_module_version": "1.2.0",
          "state": {
            "_model_module": "@jupyter-widgets/base",
            "_model_module_version": "1.2.0",
            "_model_name": "LayoutModel",
            "_view_count": null,
            "_view_module": "@jupyter-widgets/base",
            "_view_module_version": "1.2.0",
            "_view_name": "LayoutView",
            "align_content": null,
            "align_items": null,
            "align_self": null,
            "border": null,
            "bottom": null,
            "display": null,
            "flex": null,
            "flex_flow": null,
            "grid_area": null,
            "grid_auto_columns": null,
            "grid_auto_flow": null,
            "grid_auto_rows": null,
            "grid_column": null,
            "grid_gap": null,
            "grid_row": null,
            "grid_template_areas": null,
            "grid_template_columns": null,
            "grid_template_rows": null,
            "height": null,
            "justify_content": null,
            "justify_items": null,
            "left": null,
            "margin": null,
            "max_height": null,
            "max_width": null,
            "min_height": null,
            "min_width": null,
            "object_fit": null,
            "object_position": null,
            "order": null,
            "overflow": null,
            "overflow_x": null,
            "overflow_y": null,
            "padding": null,
            "right": null,
            "top": null,
            "visibility": null,
            "width": null
          }
        },
        "61d51e406289470cb4712a7d71442a45": {
          "model_module": "@jupyter-widgets/controls",
          "model_name": "SliderStyleModel",
          "model_module_version": "1.5.0",
          "state": {
            "_model_module": "@jupyter-widgets/controls",
            "_model_module_version": "1.5.0",
            "_model_name": "SliderStyleModel",
            "_view_count": null,
            "_view_module": "@jupyter-widgets/base",
            "_view_module_version": "1.2.0",
            "_view_name": "StyleView",
            "description_width": "",
            "handle_color": null
          }
        },
        "e2dd4bd1a44c4148819ef2a2c02e8aa7": {
          "model_module": "@jupyter-widgets/base",
          "model_name": "LayoutModel",
          "model_module_version": "1.2.0",
          "state": {
            "_model_module": "@jupyter-widgets/base",
            "_model_module_version": "1.2.0",
            "_model_name": "LayoutModel",
            "_view_count": null,
            "_view_module": "@jupyter-widgets/base",
            "_view_module_version": "1.2.0",
            "_view_name": "LayoutView",
            "align_content": null,
            "align_items": null,
            "align_self": null,
            "border": null,
            "bottom": null,
            "display": null,
            "flex": null,
            "flex_flow": null,
            "grid_area": null,
            "grid_auto_columns": null,
            "grid_auto_flow": null,
            "grid_auto_rows": null,
            "grid_column": null,
            "grid_gap": null,
            "grid_row": null,
            "grid_template_areas": null,
            "grid_template_columns": null,
            "grid_template_rows": null,
            "height": null,
            "justify_content": null,
            "justify_items": null,
            "left": null,
            "margin": null,
            "max_height": null,
            "max_width": null,
            "min_height": null,
            "min_width": null,
            "object_fit": null,
            "object_position": null,
            "order": null,
            "overflow": null,
            "overflow_x": null,
            "overflow_y": null,
            "padding": null,
            "right": null,
            "top": null,
            "visibility": null,
            "width": null
          }
        },
        "b8823e6855ce4baa82a1db85b9081b8a": {
          "model_module": "@jupyter-widgets/controls",
          "model_name": "SliderStyleModel",
          "model_module_version": "1.5.0",
          "state": {
            "_model_module": "@jupyter-widgets/controls",
            "_model_module_version": "1.5.0",
            "_model_name": "SliderStyleModel",
            "_view_count": null,
            "_view_module": "@jupyter-widgets/base",
            "_view_module_version": "1.2.0",
            "_view_name": "StyleView",
            "description_width": "",
            "handle_color": null
          }
        },
        "832bd75c01c041ec92ef5c335079aaa4": {
          "model_module": "@jupyter-widgets/base",
          "model_name": "LayoutModel",
          "model_module_version": "1.2.0",
          "state": {
            "_model_module": "@jupyter-widgets/base",
            "_model_module_version": "1.2.0",
            "_model_name": "LayoutModel",
            "_view_count": null,
            "_view_module": "@jupyter-widgets/base",
            "_view_module_version": "1.2.0",
            "_view_name": "LayoutView",
            "align_content": null,
            "align_items": null,
            "align_self": null,
            "border": null,
            "bottom": null,
            "display": null,
            "flex": null,
            "flex_flow": null,
            "grid_area": null,
            "grid_auto_columns": null,
            "grid_auto_flow": null,
            "grid_auto_rows": null,
            "grid_column": null,
            "grid_gap": null,
            "grid_row": null,
            "grid_template_areas": null,
            "grid_template_columns": null,
            "grid_template_rows": null,
            "height": null,
            "justify_content": null,
            "justify_items": null,
            "left": null,
            "margin": null,
            "max_height": null,
            "max_width": null,
            "min_height": null,
            "min_width": null,
            "object_fit": null,
            "object_position": null,
            "order": null,
            "overflow": null,
            "overflow_x": null,
            "overflow_y": null,
            "padding": null,
            "right": null,
            "top": null,
            "visibility": null,
            "width": null
          }
        },
        "86776a9d12b14ab39926d2f0aac54290": {
          "model_module": "@jupyter-widgets/controls",
          "model_name": "DescriptionStyleModel",
          "model_module_version": "1.5.0",
          "state": {
            "_model_module": "@jupyter-widgets/controls",
            "_model_module_version": "1.5.0",
            "_model_name": "DescriptionStyleModel",
            "_view_count": null,
            "_view_module": "@jupyter-widgets/base",
            "_view_module_version": "1.2.0",
            "_view_name": "StyleView",
            "description_width": ""
          }
        },
        "29e1e623c89444bdb2c46b819852e3d4": {
          "model_module": "@jupyter-widgets/base",
          "model_name": "LayoutModel",
          "model_module_version": "1.2.0",
          "state": {
            "_model_module": "@jupyter-widgets/base",
            "_model_module_version": "1.2.0",
            "_model_name": "LayoutModel",
            "_view_count": null,
            "_view_module": "@jupyter-widgets/base",
            "_view_module_version": "1.2.0",
            "_view_name": "LayoutView",
            "align_content": null,
            "align_items": null,
            "align_self": null,
            "border": null,
            "bottom": null,
            "display": null,
            "flex": null,
            "flex_flow": null,
            "grid_area": null,
            "grid_auto_columns": null,
            "grid_auto_flow": null,
            "grid_auto_rows": null,
            "grid_column": null,
            "grid_gap": null,
            "grid_row": null,
            "grid_template_areas": null,
            "grid_template_columns": null,
            "grid_template_rows": null,
            "height": null,
            "justify_content": null,
            "justify_items": null,
            "left": null,
            "margin": null,
            "max_height": null,
            "max_width": null,
            "min_height": null,
            "min_width": null,
            "object_fit": null,
            "object_position": null,
            "order": null,
            "overflow": null,
            "overflow_x": null,
            "overflow_y": null,
            "padding": null,
            "right": null,
            "top": null,
            "visibility": null,
            "width": null
          }
        }
      }
    }
  },
  "cells": [
    {
      "cell_type": "markdown",
      "source": [
        "# **Prepare Data**"
      ],
      "metadata": {
        "id": "Nc9fDYB3HbAU"
      }
    },
    {
      "cell_type": "code",
      "source": [
        "!pip install category_encoders"
      ],
      "metadata": {
        "colab": {
          "base_uri": "https://localhost:8080/"
        },
        "id": "DWWjtz2Y_I1E",
        "outputId": "90d29522-5bab-4a1e-c8e8-5e5294254d66"
      },
      "execution_count": null,
      "outputs": [
        {
          "output_type": "stream",
          "name": "stdout",
          "text": [
            "Looking in indexes: https://pypi.org/simple, https://us-python.pkg.dev/colab-wheels/public/simple/\n",
            "Requirement already satisfied: category_encoders in /usr/local/lib/python3.10/dist-packages (2.6.0)\n",
            "Requirement already satisfied: numpy>=1.14.0 in /usr/local/lib/python3.10/dist-packages (from category_encoders) (1.22.4)\n",
            "Requirement already satisfied: scikit-learn>=0.20.0 in /usr/local/lib/python3.10/dist-packages (from category_encoders) (1.2.2)\n",
            "Requirement already satisfied: scipy>=1.0.0 in /usr/local/lib/python3.10/dist-packages (from category_encoders) (1.10.1)\n",
            "Requirement already satisfied: statsmodels>=0.9.0 in /usr/local/lib/python3.10/dist-packages (from category_encoders) (0.13.5)\n",
            "Requirement already satisfied: pandas>=1.0.5 in /usr/local/lib/python3.10/dist-packages (from category_encoders) (1.5.3)\n",
            "Requirement already satisfied: patsy>=0.5.1 in /usr/local/lib/python3.10/dist-packages (from category_encoders) (0.5.3)\n",
            "Requirement already satisfied: python-dateutil>=2.8.1 in /usr/local/lib/python3.10/dist-packages (from pandas>=1.0.5->category_encoders) (2.8.2)\n",
            "Requirement already satisfied: pytz>=2020.1 in /usr/local/lib/python3.10/dist-packages (from pandas>=1.0.5->category_encoders) (2022.7.1)\n",
            "Requirement already satisfied: six in /usr/local/lib/python3.10/dist-packages (from patsy>=0.5.1->category_encoders) (1.16.0)\n",
            "Requirement already satisfied: joblib>=1.1.1 in /usr/local/lib/python3.10/dist-packages (from scikit-learn>=0.20.0->category_encoders) (1.2.0)\n",
            "Requirement already satisfied: threadpoolctl>=2.0.0 in /usr/local/lib/python3.10/dist-packages (from scikit-learn>=0.20.0->category_encoders) (3.1.0)\n",
            "Requirement already satisfied: packaging>=21.3 in /usr/local/lib/python3.10/dist-packages (from statsmodels>=0.9.0->category_encoders) (23.1)\n"
          ]
        }
      ]
    },
    {
      "cell_type": "code",
      "source": [
        "import warnings\n",
        "warnings.simplefilter(action=\"ignore\", category=FutureWarning)\n",
        "\n",
        "import pandas as pd\n",
        "import seaborn as sns\n",
        "\n",
        "from category_encoders import OneHotEncoder\n",
        "\n",
        "from sklearn.impute import SimpleImputer\n",
        "from sklearn.linear_model import LinearRegression, Ridge  # noqa F401\n",
        "from sklearn.ensemble import RandomForestRegressor\n",
        "\n",
        "from sklearn.metrics import mean_absolute_error, r2_score\n",
        "from sklearn.pipeline import make_pipeline\n",
        "\n",
        "# Disable the SettingWithCopyWarning\n",
        "pd.options.mode.chained_assignment = None  # default='warn'"
      ],
      "metadata": {
        "id": "FHIoNqWuRD7f"
      },
      "execution_count": null,
      "outputs": []
    },
    {
      "cell_type": "markdown",
      "source": [
        "## Import"
      ],
      "metadata": {
        "id": "pjmiJj3OJAXB"
      }
    },
    {
      "cell_type": "code",
      "source": [
        "# Load data\n",
        "df1 = pd.read_csv(\"/content/drive/MyDrive/DataScienceProjects/020 Housing-in-buenos-aires/data/buenos-aires-real-estate-1.csv\")\n",
        "df1.head(2)"
      ],
      "metadata": {
        "colab": {
          "base_uri": "https://localhost:8080/",
          "height": 211
        },
        "id": "o7QH-iBEXD99",
        "outputId": "c015d534-d6f4-42eb-96fd-d318e0d86cb7"
      },
      "execution_count": null,
      "outputs": [
        {
          "output_type": "execute_result",
          "data": {
            "text/plain": [
              "  operation property_type                            place_with_parent_names  \\\n",
              "0      sell     apartment           |Argentina|Capital Federal|Villa Crespo|   \n",
              "1      sell         house  |Argentina|Bs.As. G.B.A. Zona Oeste|La Matanza...   \n",
              "\n",
              "                         lat-lon     price currency  \\\n",
              "0  -34.6047834183,-58.4586812499  180000.0      USD   \n",
              "1                            NaN  250000.0      USD   \n",
              "\n",
              "   price_aprox_local_currency  price_aprox_usd  surface_total_in_m2  \\\n",
              "0                   2729232.0         180000.0                120.0   \n",
              "1                   3790600.0         250000.0                117.0   \n",
              "\n",
              "   surface_covered_in_m2  price_usd_per_m2  price_per_m2  floor  rooms  \\\n",
              "0                  110.0       1500.000000   1636.363636    NaN    4.0   \n",
              "1                  120.0       2136.752137   2083.333333    NaN    4.0   \n",
              "\n",
              "  expenses                                      properati_url  \n",
              "0      NaN  http://villa-crespo.properati.com.ar/12egq_ven...  \n",
              "1      NaN  http://ramos-mejia.properati.com.ar/s7pd_venta...  "
            ],
            "text/html": [
              "\n",
              "  <div id=\"df-969c1475-74b4-464e-acec-adc4869c9d6b\">\n",
              "    <div class=\"colab-df-container\">\n",
              "      <div>\n",
              "<style scoped>\n",
              "    .dataframe tbody tr th:only-of-type {\n",
              "        vertical-align: middle;\n",
              "    }\n",
              "\n",
              "    .dataframe tbody tr th {\n",
              "        vertical-align: top;\n",
              "    }\n",
              "\n",
              "    .dataframe thead th {\n",
              "        text-align: right;\n",
              "    }\n",
              "</style>\n",
              "<table border=\"1\" class=\"dataframe\">\n",
              "  <thead>\n",
              "    <tr style=\"text-align: right;\">\n",
              "      <th></th>\n",
              "      <th>operation</th>\n",
              "      <th>property_type</th>\n",
              "      <th>place_with_parent_names</th>\n",
              "      <th>lat-lon</th>\n",
              "      <th>price</th>\n",
              "      <th>currency</th>\n",
              "      <th>price_aprox_local_currency</th>\n",
              "      <th>price_aprox_usd</th>\n",
              "      <th>surface_total_in_m2</th>\n",
              "      <th>surface_covered_in_m2</th>\n",
              "      <th>price_usd_per_m2</th>\n",
              "      <th>price_per_m2</th>\n",
              "      <th>floor</th>\n",
              "      <th>rooms</th>\n",
              "      <th>expenses</th>\n",
              "      <th>properati_url</th>\n",
              "    </tr>\n",
              "  </thead>\n",
              "  <tbody>\n",
              "    <tr>\n",
              "      <th>0</th>\n",
              "      <td>sell</td>\n",
              "      <td>apartment</td>\n",
              "      <td>|Argentina|Capital Federal|Villa Crespo|</td>\n",
              "      <td>-34.6047834183,-58.4586812499</td>\n",
              "      <td>180000.0</td>\n",
              "      <td>USD</td>\n",
              "      <td>2729232.0</td>\n",
              "      <td>180000.0</td>\n",
              "      <td>120.0</td>\n",
              "      <td>110.0</td>\n",
              "      <td>1500.000000</td>\n",
              "      <td>1636.363636</td>\n",
              "      <td>NaN</td>\n",
              "      <td>4.0</td>\n",
              "      <td>NaN</td>\n",
              "      <td>http://villa-crespo.properati.com.ar/12egq_ven...</td>\n",
              "    </tr>\n",
              "    <tr>\n",
              "      <th>1</th>\n",
              "      <td>sell</td>\n",
              "      <td>house</td>\n",
              "      <td>|Argentina|Bs.As. G.B.A. Zona Oeste|La Matanza...</td>\n",
              "      <td>NaN</td>\n",
              "      <td>250000.0</td>\n",
              "      <td>USD</td>\n",
              "      <td>3790600.0</td>\n",
              "      <td>250000.0</td>\n",
              "      <td>117.0</td>\n",
              "      <td>120.0</td>\n",
              "      <td>2136.752137</td>\n",
              "      <td>2083.333333</td>\n",
              "      <td>NaN</td>\n",
              "      <td>4.0</td>\n",
              "      <td>NaN</td>\n",
              "      <td>http://ramos-mejia.properati.com.ar/s7pd_venta...</td>\n",
              "    </tr>\n",
              "  </tbody>\n",
              "</table>\n",
              "</div>\n",
              "      <button class=\"colab-df-convert\" onclick=\"convertToInteractive('df-969c1475-74b4-464e-acec-adc4869c9d6b')\"\n",
              "              title=\"Convert this dataframe to an interactive table.\"\n",
              "              style=\"display:none;\">\n",
              "        \n",
              "  <svg xmlns=\"http://www.w3.org/2000/svg\" height=\"24px\"viewBox=\"0 0 24 24\"\n",
              "       width=\"24px\">\n",
              "    <path d=\"M0 0h24v24H0V0z\" fill=\"none\"/>\n",
              "    <path d=\"M18.56 5.44l.94 2.06.94-2.06 2.06-.94-2.06-.94-.94-2.06-.94 2.06-2.06.94zm-11 1L8.5 8.5l.94-2.06 2.06-.94-2.06-.94L8.5 2.5l-.94 2.06-2.06.94zm10 10l.94 2.06.94-2.06 2.06-.94-2.06-.94-.94-2.06-.94 2.06-2.06.94z\"/><path d=\"M17.41 7.96l-1.37-1.37c-.4-.4-.92-.59-1.43-.59-.52 0-1.04.2-1.43.59L10.3 9.45l-7.72 7.72c-.78.78-.78 2.05 0 2.83L4 21.41c.39.39.9.59 1.41.59.51 0 1.02-.2 1.41-.59l7.78-7.78 2.81-2.81c.8-.78.8-2.07 0-2.86zM5.41 20L4 18.59l7.72-7.72 1.47 1.35L5.41 20z\"/>\n",
              "  </svg>\n",
              "      </button>\n",
              "      \n",
              "  <style>\n",
              "    .colab-df-container {\n",
              "      display:flex;\n",
              "      flex-wrap:wrap;\n",
              "      gap: 12px;\n",
              "    }\n",
              "\n",
              "    .colab-df-convert {\n",
              "      background-color: #E8F0FE;\n",
              "      border: none;\n",
              "      border-radius: 50%;\n",
              "      cursor: pointer;\n",
              "      display: none;\n",
              "      fill: #1967D2;\n",
              "      height: 32px;\n",
              "      padding: 0 0 0 0;\n",
              "      width: 32px;\n",
              "    }\n",
              "\n",
              "    .colab-df-convert:hover {\n",
              "      background-color: #E2EBFA;\n",
              "      box-shadow: 0px 1px 2px rgba(60, 64, 67, 0.3), 0px 1px 3px 1px rgba(60, 64, 67, 0.15);\n",
              "      fill: #174EA6;\n",
              "    }\n",
              "\n",
              "    [theme=dark] .colab-df-convert {\n",
              "      background-color: #3B4455;\n",
              "      fill: #D2E3FC;\n",
              "    }\n",
              "\n",
              "    [theme=dark] .colab-df-convert:hover {\n",
              "      background-color: #434B5C;\n",
              "      box-shadow: 0px 1px 3px 1px rgba(0, 0, 0, 0.15);\n",
              "      filter: drop-shadow(0px 1px 2px rgba(0, 0, 0, 0.3));\n",
              "      fill: #FFFFFF;\n",
              "    }\n",
              "  </style>\n",
              "\n",
              "      <script>\n",
              "        const buttonEl =\n",
              "          document.querySelector('#df-969c1475-74b4-464e-acec-adc4869c9d6b button.colab-df-convert');\n",
              "        buttonEl.style.display =\n",
              "          google.colab.kernel.accessAllowed ? 'block' : 'none';\n",
              "\n",
              "        async function convertToInteractive(key) {\n",
              "          const element = document.querySelector('#df-969c1475-74b4-464e-acec-adc4869c9d6b');\n",
              "          const dataTable =\n",
              "            await google.colab.kernel.invokeFunction('convertToInteractive',\n",
              "                                                     [key], {});\n",
              "          if (!dataTable) return;\n",
              "\n",
              "          const docLinkHtml = 'Like what you see? Visit the ' +\n",
              "            '<a target=\"_blank\" href=https://colab.research.google.com/notebooks/data_table.ipynb>data table notebook</a>'\n",
              "            + ' to learn more about interactive tables.';\n",
              "          element.innerHTML = '';\n",
              "          dataTable['output_type'] = 'display_data';\n",
              "          await google.colab.output.renderOutput(dataTable, element);\n",
              "          const docLink = document.createElement('div');\n",
              "          docLink.innerHTML = docLinkHtml;\n",
              "          element.appendChild(docLink);\n",
              "        }\n",
              "      </script>\n",
              "    </div>\n",
              "  </div>\n",
              "  "
            ]
          },
          "metadata": {},
          "execution_count": 116
        }
      ]
    },
    {
      "cell_type": "markdown",
      "source": [
        "### Overview\n",
        "\n",
        "We want to predict the price of houses in `Buenos-Aires`, `Capital Federal` district which are less than `400 000` USD.\n"
      ],
      "metadata": {
        "id": "rKaHzSQiU1vX"
      }
    },
    {
      "cell_type": "markdown",
      "source": [
        "## Explore"
      ],
      "metadata": {
        "id": "oKL78FzRJCjA"
      }
    },
    {
      "cell_type": "markdown",
      "source": [
        "> ### Function for data preparation"
      ],
      "metadata": {
        "id": "SSZ-Fctlgry6"
      }
    },
    {
      "cell_type": "code",
      "source": [
        "# Creating a function to prepare data\n",
        "def prepare_data(path):\n",
        "  \n",
        "    # Read CSV file\n",
        "    df = pd.read_csv(path)\n",
        "\n",
        "    # Subset data: houses in \"Capital Federal\", less than 400,000\n",
        "    mask_ba = df[\"place_with_parent_names\"].str.contains(\"Capital Federal\")\n",
        "    mask_hse = df[\"property_type\"] == \"house\"\n",
        "    mask_price = df[\"price_aprox_usd\"] < 400_000\n",
        "\n",
        "    # filter dataset\n",
        "    df = df[mask_ba & mask_hse & mask_price]\n",
        "\n",
        "    # Subset data: Remove outliers for \"surface_covered_in_m2\"\n",
        "    low, high = df[\"surface_covered_in_m2\"].quantile([0.1, 0.9])\n",
        "    mask_area = df[\"surface_covered_in_m2\"].between(low, high)\n",
        "    df = df[mask_area]\n",
        "\n",
        "    # Split \"lat-lon\" column\n",
        "    df[[\"lat\", \"lon\"]] = df[\"lat-lon\"].str.split(\",\", expand=True).astype(float)\n",
        "    df.drop(columns = \"lat-lon\", inplace=True)\n",
        "\n",
        "    # Get place name\n",
        "    df[\"neighborhood\"] = df[\"place_with_parent_names\"].str.split(\"|\", expand=True)[3]\n",
        "    df.drop(columns=\"place_with_parent_names\", inplace=True)\n",
        "        \n",
        "    # Drop features with high null counts\n",
        "    df.drop(columns=[\"floor\", \"expenses\"], inplace=True)\n",
        "    \n",
        "    # Drop low- and high-cardinality categorical features\n",
        "    df.drop(columns=[\"property_type\",\"operation\",\"currency\",\"properati_url\"], inplace=True)\n",
        "    \n",
        "    # Drop leaky features\n",
        "    df.drop(\n",
        "        columns=\n",
        "        ['price',\n",
        "        'price_aprox_local_currency',\n",
        "        'price_per_m2',\n",
        "        'price_usd_per_m2'], inplace=True)\n",
        "    \n",
        "    # Drop features with high collinearity\n",
        "    df.drop(columns=['surface_total_in_m2','rooms'], inplace=True)\n",
        "    \n",
        "    return df\n"
      ],
      "metadata": {
        "id": "7FmCgmJ1LqPt"
      },
      "execution_count": null,
      "outputs": []
    },
    {
      "cell_type": "markdown",
      "source": [
        "#### 1. Filtering using boolean mask"
      ],
      "metadata": {
        "id": "N564jtoU0ln7"
      }
    },
    {
      "cell_type": "code",
      "source": [
        "# Subset data: houses in \"Capital Federal\", less than 400,000\n",
        "mask_cap= df1[\"place_with_parent_names\"].str.contains(\"Capital Federal\")\n",
        "mask_hses = df1[\"property_type\"] == \"house\"\n",
        "mask_price = df1[\"price_aprox_usd\"] < 400_000\n",
        "\n",
        "# filter data\n",
        "df2 = df1[mask_cap & mask_hses & mask_price]\n",
        "df2.head()"
      ],
      "metadata": {
        "colab": {
          "base_uri": "https://localhost:8080/",
          "height": 357
        },
        "id": "cvE73WJBg-fp",
        "outputId": "b6ca5779-6b53-46f9-dca1-72c8485ecaa3"
      },
      "execution_count": null,
      "outputs": [
        {
          "output_type": "execute_result",
          "data": {
            "text/plain": [
              "    operation property_type                   place_with_parent_names  \\\n",
              "184      sell         house        |Argentina|Capital Federal|Flores|   \n",
              "195      sell         house          |Argentina|Capital Federal|Boca|   \n",
              "275      sell         house      |Argentina|Capital Federal|Saavedra|   \n",
              "346      sell         house     |Argentina|Capital Federal|Mataderos|   \n",
              "439      sell         house  |Argentina|Capital Federal|Villa Lugano|   \n",
              "\n",
              "                     lat-lon     price currency  price_aprox_local_currency  \\\n",
              "184  -34.6374837,-58.4601452  239000.0      USD                   3623813.6   \n",
              "195   -34.628398,-58.3619026  240000.0      USD                   3638976.0   \n",
              "275  -34.5459622,-58.4770866  380000.0      USD                   5761712.0   \n",
              "346  -34.6593562,-58.5167781  380000.0      USD                   5761712.0   \n",
              "439  -34.6632794,-58.4795435  250000.0      USD                   3790600.0   \n",
              "\n",
              "     price_aprox_usd  surface_total_in_m2  surface_covered_in_m2  \\\n",
              "184         239000.0                150.0                  144.0   \n",
              "195         240000.0                146.0                  135.0   \n",
              "275         380000.0                300.0                  280.0   \n",
              "346         380000.0                225.0                  160.0   \n",
              "439         250000.0                230.0                  190.0   \n",
              "\n",
              "     price_usd_per_m2  price_per_m2  floor  rooms expenses  \\\n",
              "184       1593.333333   1659.722222    NaN    NaN      NaN   \n",
              "195       1643.835616   1777.777778    NaN    5.0      NaN   \n",
              "275       1266.666667   1357.142857    NaN    NaN      NaN   \n",
              "346       1688.888889   2375.000000    NaN    4.0      NaN   \n",
              "439       1086.956522   1315.789474    NaN    4.0      NaN   \n",
              "\n",
              "                                         properati_url  \n",
              "184  http://flores.properati.com.ar/12pgl_venta_cas...  \n",
              "195  http://boca.properati.com.ar/10t85_venta_casa_...  \n",
              "275  http://saavedra.properati.com.ar/112xx_venta_c...  \n",
              "346  http://mataderos.properati.com.ar/1087y_venta_...  \n",
              "439  http://villa-lugano.properati.com.ar/yd6n_vent...  "
            ],
            "text/html": [
              "\n",
              "  <div id=\"df-816a7f95-3055-44ab-bd6a-1fc5dfa4925f\">\n",
              "    <div class=\"colab-df-container\">\n",
              "      <div>\n",
              "<style scoped>\n",
              "    .dataframe tbody tr th:only-of-type {\n",
              "        vertical-align: middle;\n",
              "    }\n",
              "\n",
              "    .dataframe tbody tr th {\n",
              "        vertical-align: top;\n",
              "    }\n",
              "\n",
              "    .dataframe thead th {\n",
              "        text-align: right;\n",
              "    }\n",
              "</style>\n",
              "<table border=\"1\" class=\"dataframe\">\n",
              "  <thead>\n",
              "    <tr style=\"text-align: right;\">\n",
              "      <th></th>\n",
              "      <th>operation</th>\n",
              "      <th>property_type</th>\n",
              "      <th>place_with_parent_names</th>\n",
              "      <th>lat-lon</th>\n",
              "      <th>price</th>\n",
              "      <th>currency</th>\n",
              "      <th>price_aprox_local_currency</th>\n",
              "      <th>price_aprox_usd</th>\n",
              "      <th>surface_total_in_m2</th>\n",
              "      <th>surface_covered_in_m2</th>\n",
              "      <th>price_usd_per_m2</th>\n",
              "      <th>price_per_m2</th>\n",
              "      <th>floor</th>\n",
              "      <th>rooms</th>\n",
              "      <th>expenses</th>\n",
              "      <th>properati_url</th>\n",
              "    </tr>\n",
              "  </thead>\n",
              "  <tbody>\n",
              "    <tr>\n",
              "      <th>184</th>\n",
              "      <td>sell</td>\n",
              "      <td>house</td>\n",
              "      <td>|Argentina|Capital Federal|Flores|</td>\n",
              "      <td>-34.6374837,-58.4601452</td>\n",
              "      <td>239000.0</td>\n",
              "      <td>USD</td>\n",
              "      <td>3623813.6</td>\n",
              "      <td>239000.0</td>\n",
              "      <td>150.0</td>\n",
              "      <td>144.0</td>\n",
              "      <td>1593.333333</td>\n",
              "      <td>1659.722222</td>\n",
              "      <td>NaN</td>\n",
              "      <td>NaN</td>\n",
              "      <td>NaN</td>\n",
              "      <td>http://flores.properati.com.ar/12pgl_venta_cas...</td>\n",
              "    </tr>\n",
              "    <tr>\n",
              "      <th>195</th>\n",
              "      <td>sell</td>\n",
              "      <td>house</td>\n",
              "      <td>|Argentina|Capital Federal|Boca|</td>\n",
              "      <td>-34.628398,-58.3619026</td>\n",
              "      <td>240000.0</td>\n",
              "      <td>USD</td>\n",
              "      <td>3638976.0</td>\n",
              "      <td>240000.0</td>\n",
              "      <td>146.0</td>\n",
              "      <td>135.0</td>\n",
              "      <td>1643.835616</td>\n",
              "      <td>1777.777778</td>\n",
              "      <td>NaN</td>\n",
              "      <td>5.0</td>\n",
              "      <td>NaN</td>\n",
              "      <td>http://boca.properati.com.ar/10t85_venta_casa_...</td>\n",
              "    </tr>\n",
              "    <tr>\n",
              "      <th>275</th>\n",
              "      <td>sell</td>\n",
              "      <td>house</td>\n",
              "      <td>|Argentina|Capital Federal|Saavedra|</td>\n",
              "      <td>-34.5459622,-58.4770866</td>\n",
              "      <td>380000.0</td>\n",
              "      <td>USD</td>\n",
              "      <td>5761712.0</td>\n",
              "      <td>380000.0</td>\n",
              "      <td>300.0</td>\n",
              "      <td>280.0</td>\n",
              "      <td>1266.666667</td>\n",
              "      <td>1357.142857</td>\n",
              "      <td>NaN</td>\n",
              "      <td>NaN</td>\n",
              "      <td>NaN</td>\n",
              "      <td>http://saavedra.properati.com.ar/112xx_venta_c...</td>\n",
              "    </tr>\n",
              "    <tr>\n",
              "      <th>346</th>\n",
              "      <td>sell</td>\n",
              "      <td>house</td>\n",
              "      <td>|Argentina|Capital Federal|Mataderos|</td>\n",
              "      <td>-34.6593562,-58.5167781</td>\n",
              "      <td>380000.0</td>\n",
              "      <td>USD</td>\n",
              "      <td>5761712.0</td>\n",
              "      <td>380000.0</td>\n",
              "      <td>225.0</td>\n",
              "      <td>160.0</td>\n",
              "      <td>1688.888889</td>\n",
              "      <td>2375.000000</td>\n",
              "      <td>NaN</td>\n",
              "      <td>4.0</td>\n",
              "      <td>NaN</td>\n",
              "      <td>http://mataderos.properati.com.ar/1087y_venta_...</td>\n",
              "    </tr>\n",
              "    <tr>\n",
              "      <th>439</th>\n",
              "      <td>sell</td>\n",
              "      <td>house</td>\n",
              "      <td>|Argentina|Capital Federal|Villa Lugano|</td>\n",
              "      <td>-34.6632794,-58.4795435</td>\n",
              "      <td>250000.0</td>\n",
              "      <td>USD</td>\n",
              "      <td>3790600.0</td>\n",
              "      <td>250000.0</td>\n",
              "      <td>230.0</td>\n",
              "      <td>190.0</td>\n",
              "      <td>1086.956522</td>\n",
              "      <td>1315.789474</td>\n",
              "      <td>NaN</td>\n",
              "      <td>4.0</td>\n",
              "      <td>NaN</td>\n",
              "      <td>http://villa-lugano.properati.com.ar/yd6n_vent...</td>\n",
              "    </tr>\n",
              "  </tbody>\n",
              "</table>\n",
              "</div>\n",
              "      <button class=\"colab-df-convert\" onclick=\"convertToInteractive('df-816a7f95-3055-44ab-bd6a-1fc5dfa4925f')\"\n",
              "              title=\"Convert this dataframe to an interactive table.\"\n",
              "              style=\"display:none;\">\n",
              "        \n",
              "  <svg xmlns=\"http://www.w3.org/2000/svg\" height=\"24px\"viewBox=\"0 0 24 24\"\n",
              "       width=\"24px\">\n",
              "    <path d=\"M0 0h24v24H0V0z\" fill=\"none\"/>\n",
              "    <path d=\"M18.56 5.44l.94 2.06.94-2.06 2.06-.94-2.06-.94-.94-2.06-.94 2.06-2.06.94zm-11 1L8.5 8.5l.94-2.06 2.06-.94-2.06-.94L8.5 2.5l-.94 2.06-2.06.94zm10 10l.94 2.06.94-2.06 2.06-.94-2.06-.94-.94-2.06-.94 2.06-2.06.94z\"/><path d=\"M17.41 7.96l-1.37-1.37c-.4-.4-.92-.59-1.43-.59-.52 0-1.04.2-1.43.59L10.3 9.45l-7.72 7.72c-.78.78-.78 2.05 0 2.83L4 21.41c.39.39.9.59 1.41.59.51 0 1.02-.2 1.41-.59l7.78-7.78 2.81-2.81c.8-.78.8-2.07 0-2.86zM5.41 20L4 18.59l7.72-7.72 1.47 1.35L5.41 20z\"/>\n",
              "  </svg>\n",
              "      </button>\n",
              "      \n",
              "  <style>\n",
              "    .colab-df-container {\n",
              "      display:flex;\n",
              "      flex-wrap:wrap;\n",
              "      gap: 12px;\n",
              "    }\n",
              "\n",
              "    .colab-df-convert {\n",
              "      background-color: #E8F0FE;\n",
              "      border: none;\n",
              "      border-radius: 50%;\n",
              "      cursor: pointer;\n",
              "      display: none;\n",
              "      fill: #1967D2;\n",
              "      height: 32px;\n",
              "      padding: 0 0 0 0;\n",
              "      width: 32px;\n",
              "    }\n",
              "\n",
              "    .colab-df-convert:hover {\n",
              "      background-color: #E2EBFA;\n",
              "      box-shadow: 0px 1px 2px rgba(60, 64, 67, 0.3), 0px 1px 3px 1px rgba(60, 64, 67, 0.15);\n",
              "      fill: #174EA6;\n",
              "    }\n",
              "\n",
              "    [theme=dark] .colab-df-convert {\n",
              "      background-color: #3B4455;\n",
              "      fill: #D2E3FC;\n",
              "    }\n",
              "\n",
              "    [theme=dark] .colab-df-convert:hover {\n",
              "      background-color: #434B5C;\n",
              "      box-shadow: 0px 1px 3px 1px rgba(0, 0, 0, 0.15);\n",
              "      filter: drop-shadow(0px 1px 2px rgba(0, 0, 0, 0.3));\n",
              "      fill: #FFFFFF;\n",
              "    }\n",
              "  </style>\n",
              "\n",
              "      <script>\n",
              "        const buttonEl =\n",
              "          document.querySelector('#df-816a7f95-3055-44ab-bd6a-1fc5dfa4925f button.colab-df-convert');\n",
              "        buttonEl.style.display =\n",
              "          google.colab.kernel.accessAllowed ? 'block' : 'none';\n",
              "\n",
              "        async function convertToInteractive(key) {\n",
              "          const element = document.querySelector('#df-816a7f95-3055-44ab-bd6a-1fc5dfa4925f');\n",
              "          const dataTable =\n",
              "            await google.colab.kernel.invokeFunction('convertToInteractive',\n",
              "                                                     [key], {});\n",
              "          if (!dataTable) return;\n",
              "\n",
              "          const docLinkHtml = 'Like what you see? Visit the ' +\n",
              "            '<a target=\"_blank\" href=https://colab.research.google.com/notebooks/data_table.ipynb>data table notebook</a>'\n",
              "            + ' to learn more about interactive tables.';\n",
              "          element.innerHTML = '';\n",
              "          dataTable['output_type'] = 'display_data';\n",
              "          await google.colab.output.renderOutput(dataTable, element);\n",
              "          const docLink = document.createElement('div');\n",
              "          docLink.innerHTML = docLinkHtml;\n",
              "          element.appendChild(docLink);\n",
              "        }\n",
              "      </script>\n",
              "    </div>\n",
              "  </div>\n",
              "  "
            ]
          },
          "metadata": {},
          "execution_count": 118
        }
      ]
    },
    {
      "cell_type": "markdown",
      "source": [
        "#### 2. Remove Outliers"
      ],
      "metadata": {
        "id": "uD99qbU-2rj5"
      }
    },
    {
      "cell_type": "code",
      "source": [
        "low, high = df2[\"surface_covered_in_m2\"].quantile([0.1, 0.9])\n",
        "df2[\"surface_covered_in_m2\"].between(low, high)"
      ],
      "metadata": {
        "colab": {
          "base_uri": "https://localhost:8080/"
        },
        "id": "UUucw7owZMcG",
        "outputId": "5f195e78-cd36-43c2-f10e-f0abecc0f161"
      },
      "execution_count": null,
      "outputs": [
        {
          "output_type": "execute_result",
          "data": {
            "text/plain": [
              "184      True\n",
              "195      True\n",
              "275     False\n",
              "346      True\n",
              "439      True\n",
              "        ...  \n",
              "8037    False\n",
              "8093    False\n",
              "8466     True\n",
              "8564     True\n",
              "8600     True\n",
              "Name: surface_covered_in_m2, Length: 102, dtype: bool"
            ]
          },
          "metadata": {},
          "execution_count": 119
        }
      ]
    },
    {
      "cell_type": "code",
      "source": [
        "# Remove outliers\n",
        "low, high = df2[\"surface_covered_in_m2\"].quantile([0.1, 0.9])\n",
        "\n",
        "# subsetting based on quantiles\n",
        "mask_area = df2[\"surface_covered_in_m2\"].between(low, high)\n",
        "df3 = df2[mask_area]\n",
        "df3.head(4)"
      ],
      "metadata": {
        "colab": {
          "base_uri": "https://localhost:8080/",
          "height": 308
        },
        "id": "3t7TSOpShkhy",
        "outputId": "b5901c44-4edc-498d-dc51-b89e0239b21b"
      },
      "execution_count": null,
      "outputs": [
        {
          "output_type": "execute_result",
          "data": {
            "text/plain": [
              "    operation property_type                   place_with_parent_names  \\\n",
              "184      sell         house        |Argentina|Capital Federal|Flores|   \n",
              "195      sell         house          |Argentina|Capital Federal|Boca|   \n",
              "346      sell         house     |Argentina|Capital Federal|Mataderos|   \n",
              "439      sell         house  |Argentina|Capital Federal|Villa Lugano|   \n",
              "\n",
              "                     lat-lon     price currency  price_aprox_local_currency  \\\n",
              "184  -34.6374837,-58.4601452  239000.0      USD                   3623813.6   \n",
              "195   -34.628398,-58.3619026  240000.0      USD                   3638976.0   \n",
              "346  -34.6593562,-58.5167781  380000.0      USD                   5761712.0   \n",
              "439  -34.6632794,-58.4795435  250000.0      USD                   3790600.0   \n",
              "\n",
              "     price_aprox_usd  surface_total_in_m2  surface_covered_in_m2  \\\n",
              "184         239000.0                150.0                  144.0   \n",
              "195         240000.0                146.0                  135.0   \n",
              "346         380000.0                225.0                  160.0   \n",
              "439         250000.0                230.0                  190.0   \n",
              "\n",
              "     price_usd_per_m2  price_per_m2  floor  rooms expenses  \\\n",
              "184       1593.333333   1659.722222    NaN    NaN      NaN   \n",
              "195       1643.835616   1777.777778    NaN    5.0      NaN   \n",
              "346       1688.888889   2375.000000    NaN    4.0      NaN   \n",
              "439       1086.956522   1315.789474    NaN    4.0      NaN   \n",
              "\n",
              "                                         properati_url  \n",
              "184  http://flores.properati.com.ar/12pgl_venta_cas...  \n",
              "195  http://boca.properati.com.ar/10t85_venta_casa_...  \n",
              "346  http://mataderos.properati.com.ar/1087y_venta_...  \n",
              "439  http://villa-lugano.properati.com.ar/yd6n_vent...  "
            ],
            "text/html": [
              "\n",
              "  <div id=\"df-d7315c30-0650-4c89-9e38-40678ac35b82\">\n",
              "    <div class=\"colab-df-container\">\n",
              "      <div>\n",
              "<style scoped>\n",
              "    .dataframe tbody tr th:only-of-type {\n",
              "        vertical-align: middle;\n",
              "    }\n",
              "\n",
              "    .dataframe tbody tr th {\n",
              "        vertical-align: top;\n",
              "    }\n",
              "\n",
              "    .dataframe thead th {\n",
              "        text-align: right;\n",
              "    }\n",
              "</style>\n",
              "<table border=\"1\" class=\"dataframe\">\n",
              "  <thead>\n",
              "    <tr style=\"text-align: right;\">\n",
              "      <th></th>\n",
              "      <th>operation</th>\n",
              "      <th>property_type</th>\n",
              "      <th>place_with_parent_names</th>\n",
              "      <th>lat-lon</th>\n",
              "      <th>price</th>\n",
              "      <th>currency</th>\n",
              "      <th>price_aprox_local_currency</th>\n",
              "      <th>price_aprox_usd</th>\n",
              "      <th>surface_total_in_m2</th>\n",
              "      <th>surface_covered_in_m2</th>\n",
              "      <th>price_usd_per_m2</th>\n",
              "      <th>price_per_m2</th>\n",
              "      <th>floor</th>\n",
              "      <th>rooms</th>\n",
              "      <th>expenses</th>\n",
              "      <th>properati_url</th>\n",
              "    </tr>\n",
              "  </thead>\n",
              "  <tbody>\n",
              "    <tr>\n",
              "      <th>184</th>\n",
              "      <td>sell</td>\n",
              "      <td>house</td>\n",
              "      <td>|Argentina|Capital Federal|Flores|</td>\n",
              "      <td>-34.6374837,-58.4601452</td>\n",
              "      <td>239000.0</td>\n",
              "      <td>USD</td>\n",
              "      <td>3623813.6</td>\n",
              "      <td>239000.0</td>\n",
              "      <td>150.0</td>\n",
              "      <td>144.0</td>\n",
              "      <td>1593.333333</td>\n",
              "      <td>1659.722222</td>\n",
              "      <td>NaN</td>\n",
              "      <td>NaN</td>\n",
              "      <td>NaN</td>\n",
              "      <td>http://flores.properati.com.ar/12pgl_venta_cas...</td>\n",
              "    </tr>\n",
              "    <tr>\n",
              "      <th>195</th>\n",
              "      <td>sell</td>\n",
              "      <td>house</td>\n",
              "      <td>|Argentina|Capital Federal|Boca|</td>\n",
              "      <td>-34.628398,-58.3619026</td>\n",
              "      <td>240000.0</td>\n",
              "      <td>USD</td>\n",
              "      <td>3638976.0</td>\n",
              "      <td>240000.0</td>\n",
              "      <td>146.0</td>\n",
              "      <td>135.0</td>\n",
              "      <td>1643.835616</td>\n",
              "      <td>1777.777778</td>\n",
              "      <td>NaN</td>\n",
              "      <td>5.0</td>\n",
              "      <td>NaN</td>\n",
              "      <td>http://boca.properati.com.ar/10t85_venta_casa_...</td>\n",
              "    </tr>\n",
              "    <tr>\n",
              "      <th>346</th>\n",
              "      <td>sell</td>\n",
              "      <td>house</td>\n",
              "      <td>|Argentina|Capital Federal|Mataderos|</td>\n",
              "      <td>-34.6593562,-58.5167781</td>\n",
              "      <td>380000.0</td>\n",
              "      <td>USD</td>\n",
              "      <td>5761712.0</td>\n",
              "      <td>380000.0</td>\n",
              "      <td>225.0</td>\n",
              "      <td>160.0</td>\n",
              "      <td>1688.888889</td>\n",
              "      <td>2375.000000</td>\n",
              "      <td>NaN</td>\n",
              "      <td>4.0</td>\n",
              "      <td>NaN</td>\n",
              "      <td>http://mataderos.properati.com.ar/1087y_venta_...</td>\n",
              "    </tr>\n",
              "    <tr>\n",
              "      <th>439</th>\n",
              "      <td>sell</td>\n",
              "      <td>house</td>\n",
              "      <td>|Argentina|Capital Federal|Villa Lugano|</td>\n",
              "      <td>-34.6632794,-58.4795435</td>\n",
              "      <td>250000.0</td>\n",
              "      <td>USD</td>\n",
              "      <td>3790600.0</td>\n",
              "      <td>250000.0</td>\n",
              "      <td>230.0</td>\n",
              "      <td>190.0</td>\n",
              "      <td>1086.956522</td>\n",
              "      <td>1315.789474</td>\n",
              "      <td>NaN</td>\n",
              "      <td>4.0</td>\n",
              "      <td>NaN</td>\n",
              "      <td>http://villa-lugano.properati.com.ar/yd6n_vent...</td>\n",
              "    </tr>\n",
              "  </tbody>\n",
              "</table>\n",
              "</div>\n",
              "      <button class=\"colab-df-convert\" onclick=\"convertToInteractive('df-d7315c30-0650-4c89-9e38-40678ac35b82')\"\n",
              "              title=\"Convert this dataframe to an interactive table.\"\n",
              "              style=\"display:none;\">\n",
              "        \n",
              "  <svg xmlns=\"http://www.w3.org/2000/svg\" height=\"24px\"viewBox=\"0 0 24 24\"\n",
              "       width=\"24px\">\n",
              "    <path d=\"M0 0h24v24H0V0z\" fill=\"none\"/>\n",
              "    <path d=\"M18.56 5.44l.94 2.06.94-2.06 2.06-.94-2.06-.94-.94-2.06-.94 2.06-2.06.94zm-11 1L8.5 8.5l.94-2.06 2.06-.94-2.06-.94L8.5 2.5l-.94 2.06-2.06.94zm10 10l.94 2.06.94-2.06 2.06-.94-2.06-.94-.94-2.06-.94 2.06-2.06.94z\"/><path d=\"M17.41 7.96l-1.37-1.37c-.4-.4-.92-.59-1.43-.59-.52 0-1.04.2-1.43.59L10.3 9.45l-7.72 7.72c-.78.78-.78 2.05 0 2.83L4 21.41c.39.39.9.59 1.41.59.51 0 1.02-.2 1.41-.59l7.78-7.78 2.81-2.81c.8-.78.8-2.07 0-2.86zM5.41 20L4 18.59l7.72-7.72 1.47 1.35L5.41 20z\"/>\n",
              "  </svg>\n",
              "      </button>\n",
              "      \n",
              "  <style>\n",
              "    .colab-df-container {\n",
              "      display:flex;\n",
              "      flex-wrap:wrap;\n",
              "      gap: 12px;\n",
              "    }\n",
              "\n",
              "    .colab-df-convert {\n",
              "      background-color: #E8F0FE;\n",
              "      border: none;\n",
              "      border-radius: 50%;\n",
              "      cursor: pointer;\n",
              "      display: none;\n",
              "      fill: #1967D2;\n",
              "      height: 32px;\n",
              "      padding: 0 0 0 0;\n",
              "      width: 32px;\n",
              "    }\n",
              "\n",
              "    .colab-df-convert:hover {\n",
              "      background-color: #E2EBFA;\n",
              "      box-shadow: 0px 1px 2px rgba(60, 64, 67, 0.3), 0px 1px 3px 1px rgba(60, 64, 67, 0.15);\n",
              "      fill: #174EA6;\n",
              "    }\n",
              "\n",
              "    [theme=dark] .colab-df-convert {\n",
              "      background-color: #3B4455;\n",
              "      fill: #D2E3FC;\n",
              "    }\n",
              "\n",
              "    [theme=dark] .colab-df-convert:hover {\n",
              "      background-color: #434B5C;\n",
              "      box-shadow: 0px 1px 3px 1px rgba(0, 0, 0, 0.15);\n",
              "      filter: drop-shadow(0px 1px 2px rgba(0, 0, 0, 0.3));\n",
              "      fill: #FFFFFF;\n",
              "    }\n",
              "  </style>\n",
              "\n",
              "      <script>\n",
              "        const buttonEl =\n",
              "          document.querySelector('#df-d7315c30-0650-4c89-9e38-40678ac35b82 button.colab-df-convert');\n",
              "        buttonEl.style.display =\n",
              "          google.colab.kernel.accessAllowed ? 'block' : 'none';\n",
              "\n",
              "        async function convertToInteractive(key) {\n",
              "          const element = document.querySelector('#df-d7315c30-0650-4c89-9e38-40678ac35b82');\n",
              "          const dataTable =\n",
              "            await google.colab.kernel.invokeFunction('convertToInteractive',\n",
              "                                                     [key], {});\n",
              "          if (!dataTable) return;\n",
              "\n",
              "          const docLinkHtml = 'Like what you see? Visit the ' +\n",
              "            '<a target=\"_blank\" href=https://colab.research.google.com/notebooks/data_table.ipynb>data table notebook</a>'\n",
              "            + ' to learn more about interactive tables.';\n",
              "          element.innerHTML = '';\n",
              "          dataTable['output_type'] = 'display_data';\n",
              "          await google.colab.output.renderOutput(dataTable, element);\n",
              "          const docLink = document.createElement('div');\n",
              "          docLink.innerHTML = docLinkHtml;\n",
              "          element.appendChild(docLink);\n",
              "        }\n",
              "      </script>\n",
              "    </div>\n",
              "  </div>\n",
              "  "
            ]
          },
          "metadata": {},
          "execution_count": 120
        }
      ]
    },
    {
      "cell_type": "markdown",
      "source": [
        "#### 3. String split to engineer new features"
      ],
      "metadata": {
        "id": "G2J6lsRXqCCX"
      }
    },
    {
      "cell_type": "code",
      "source": [
        "# Split \"lat-lon\" column\n",
        "df3[[\"lat\", \"lon\"]]  = df3[\"lat-lon\"].str.split(\",\", expand=True).astype(float)\n",
        "df3.drop(columns=\"lat-lon\", inplace=True)\n",
        "df3.info()"
      ],
      "metadata": {
        "colab": {
          "base_uri": "https://localhost:8080/"
        },
        "id": "9Q6LiwhujTyy",
        "outputId": "e849b2f7-4a6c-418b-da0e-c580f9b87116"
      },
      "execution_count": null,
      "outputs": [
        {
          "output_type": "stream",
          "name": "stdout",
          "text": [
            "<class 'pandas.core.frame.DataFrame'>\n",
            "Int64Index: 71 entries, 184 to 8600\n",
            "Data columns (total 17 columns):\n",
            " #   Column                      Non-Null Count  Dtype  \n",
            "---  ------                      --------------  -----  \n",
            " 0   operation                   71 non-null     object \n",
            " 1   property_type               71 non-null     object \n",
            " 2   place_with_parent_names     71 non-null     object \n",
            " 3   price                       71 non-null     float64\n",
            " 4   currency                    71 non-null     object \n",
            " 5   price_aprox_local_currency  71 non-null     float64\n",
            " 6   price_aprox_usd             71 non-null     float64\n",
            " 7   surface_total_in_m2         48 non-null     float64\n",
            " 8   surface_covered_in_m2       71 non-null     float64\n",
            " 9   price_usd_per_m2            44 non-null     float64\n",
            " 10  price_per_m2                71 non-null     float64\n",
            " 11  floor                       0 non-null      float64\n",
            " 12  rooms                       48 non-null     float64\n",
            " 13  expenses                    0 non-null      object \n",
            " 14  properati_url               71 non-null     object \n",
            " 15  lat                         70 non-null     float64\n",
            " 16  lon                         70 non-null     float64\n",
            "dtypes: float64(11), object(6)\n",
            "memory usage: 10.0+ KB\n"
          ]
        }
      ]
    },
    {
      "cell_type": "code",
      "source": [
        "# Get place name\n",
        "df3[\"neighborhood\"] = df3[\"place_with_parent_names\"].str.split(\"|\", expand=True)[3]\n",
        "df3.drop(columns=\"place_with_parent_names\", inplace=True)\n",
        "df3.head()"
      ],
      "metadata": {
        "colab": {
          "base_uri": "https://localhost:8080/",
          "height": 270
        },
        "id": "8BVE7-dIl2ph",
        "outputId": "ef5bc6e9-5f38-444a-a01e-7837d7e3bba5"
      },
      "execution_count": null,
      "outputs": [
        {
          "output_type": "execute_result",
          "data": {
            "text/plain": [
              "    operation property_type     price currency  price_aprox_local_currency  \\\n",
              "184      sell         house  239000.0      USD                   3623813.6   \n",
              "195      sell         house  240000.0      USD                   3638976.0   \n",
              "346      sell         house  380000.0      USD                   5761712.0   \n",
              "439      sell         house  250000.0      USD                   3790600.0   \n",
              "590      sell         house  270000.0      USD                   4093848.0   \n",
              "\n",
              "     price_aprox_usd  surface_total_in_m2  surface_covered_in_m2  \\\n",
              "184         239000.0                150.0                  144.0   \n",
              "195         240000.0                146.0                  135.0   \n",
              "346         380000.0                225.0                  160.0   \n",
              "439         250000.0                230.0                  190.0   \n",
              "590         270000.0                249.0                  164.0   \n",
              "\n",
              "     price_usd_per_m2  price_per_m2  floor  rooms expenses  \\\n",
              "184       1593.333333   1659.722222    NaN    NaN      NaN   \n",
              "195       1643.835616   1777.777778    NaN    5.0      NaN   \n",
              "346       1688.888889   2375.000000    NaN    4.0      NaN   \n",
              "439       1086.956522   1315.789474    NaN    4.0      NaN   \n",
              "590       1084.337349   1646.341463    NaN    5.0      NaN   \n",
              "\n",
              "                                         properati_url        lat        lon  \\\n",
              "184  http://flores.properati.com.ar/12pgl_venta_cas... -34.637484 -58.460145   \n",
              "195  http://boca.properati.com.ar/10t85_venta_casa_... -34.628398 -58.361903   \n",
              "346  http://mataderos.properati.com.ar/1087y_venta_... -34.659356 -58.516778   \n",
              "439  http://villa-lugano.properati.com.ar/yd6n_vent... -34.663279 -58.479543   \n",
              "590  http://coghlan.properati.com.ar/105vq_venta_ca... -34.560325 -58.470994   \n",
              "\n",
              "     neighborhood  \n",
              "184        Flores  \n",
              "195          Boca  \n",
              "346     Mataderos  \n",
              "439  Villa Lugano  \n",
              "590       Coghlan  "
            ],
            "text/html": [
              "\n",
              "  <div id=\"df-b862d8ab-e4e5-4dde-92d9-57f6442cbee9\">\n",
              "    <div class=\"colab-df-container\">\n",
              "      <div>\n",
              "<style scoped>\n",
              "    .dataframe tbody tr th:only-of-type {\n",
              "        vertical-align: middle;\n",
              "    }\n",
              "\n",
              "    .dataframe tbody tr th {\n",
              "        vertical-align: top;\n",
              "    }\n",
              "\n",
              "    .dataframe thead th {\n",
              "        text-align: right;\n",
              "    }\n",
              "</style>\n",
              "<table border=\"1\" class=\"dataframe\">\n",
              "  <thead>\n",
              "    <tr style=\"text-align: right;\">\n",
              "      <th></th>\n",
              "      <th>operation</th>\n",
              "      <th>property_type</th>\n",
              "      <th>price</th>\n",
              "      <th>currency</th>\n",
              "      <th>price_aprox_local_currency</th>\n",
              "      <th>price_aprox_usd</th>\n",
              "      <th>surface_total_in_m2</th>\n",
              "      <th>surface_covered_in_m2</th>\n",
              "      <th>price_usd_per_m2</th>\n",
              "      <th>price_per_m2</th>\n",
              "      <th>floor</th>\n",
              "      <th>rooms</th>\n",
              "      <th>expenses</th>\n",
              "      <th>properati_url</th>\n",
              "      <th>lat</th>\n",
              "      <th>lon</th>\n",
              "      <th>neighborhood</th>\n",
              "    </tr>\n",
              "  </thead>\n",
              "  <tbody>\n",
              "    <tr>\n",
              "      <th>184</th>\n",
              "      <td>sell</td>\n",
              "      <td>house</td>\n",
              "      <td>239000.0</td>\n",
              "      <td>USD</td>\n",
              "      <td>3623813.6</td>\n",
              "      <td>239000.0</td>\n",
              "      <td>150.0</td>\n",
              "      <td>144.0</td>\n",
              "      <td>1593.333333</td>\n",
              "      <td>1659.722222</td>\n",
              "      <td>NaN</td>\n",
              "      <td>NaN</td>\n",
              "      <td>NaN</td>\n",
              "      <td>http://flores.properati.com.ar/12pgl_venta_cas...</td>\n",
              "      <td>-34.637484</td>\n",
              "      <td>-58.460145</td>\n",
              "      <td>Flores</td>\n",
              "    </tr>\n",
              "    <tr>\n",
              "      <th>195</th>\n",
              "      <td>sell</td>\n",
              "      <td>house</td>\n",
              "      <td>240000.0</td>\n",
              "      <td>USD</td>\n",
              "      <td>3638976.0</td>\n",
              "      <td>240000.0</td>\n",
              "      <td>146.0</td>\n",
              "      <td>135.0</td>\n",
              "      <td>1643.835616</td>\n",
              "      <td>1777.777778</td>\n",
              "      <td>NaN</td>\n",
              "      <td>5.0</td>\n",
              "      <td>NaN</td>\n",
              "      <td>http://boca.properati.com.ar/10t85_venta_casa_...</td>\n",
              "      <td>-34.628398</td>\n",
              "      <td>-58.361903</td>\n",
              "      <td>Boca</td>\n",
              "    </tr>\n",
              "    <tr>\n",
              "      <th>346</th>\n",
              "      <td>sell</td>\n",
              "      <td>house</td>\n",
              "      <td>380000.0</td>\n",
              "      <td>USD</td>\n",
              "      <td>5761712.0</td>\n",
              "      <td>380000.0</td>\n",
              "      <td>225.0</td>\n",
              "      <td>160.0</td>\n",
              "      <td>1688.888889</td>\n",
              "      <td>2375.000000</td>\n",
              "      <td>NaN</td>\n",
              "      <td>4.0</td>\n",
              "      <td>NaN</td>\n",
              "      <td>http://mataderos.properati.com.ar/1087y_venta_...</td>\n",
              "      <td>-34.659356</td>\n",
              "      <td>-58.516778</td>\n",
              "      <td>Mataderos</td>\n",
              "    </tr>\n",
              "    <tr>\n",
              "      <th>439</th>\n",
              "      <td>sell</td>\n",
              "      <td>house</td>\n",
              "      <td>250000.0</td>\n",
              "      <td>USD</td>\n",
              "      <td>3790600.0</td>\n",
              "      <td>250000.0</td>\n",
              "      <td>230.0</td>\n",
              "      <td>190.0</td>\n",
              "      <td>1086.956522</td>\n",
              "      <td>1315.789474</td>\n",
              "      <td>NaN</td>\n",
              "      <td>4.0</td>\n",
              "      <td>NaN</td>\n",
              "      <td>http://villa-lugano.properati.com.ar/yd6n_vent...</td>\n",
              "      <td>-34.663279</td>\n",
              "      <td>-58.479543</td>\n",
              "      <td>Villa Lugano</td>\n",
              "    </tr>\n",
              "    <tr>\n",
              "      <th>590</th>\n",
              "      <td>sell</td>\n",
              "      <td>house</td>\n",
              "      <td>270000.0</td>\n",
              "      <td>USD</td>\n",
              "      <td>4093848.0</td>\n",
              "      <td>270000.0</td>\n",
              "      <td>249.0</td>\n",
              "      <td>164.0</td>\n",
              "      <td>1084.337349</td>\n",
              "      <td>1646.341463</td>\n",
              "      <td>NaN</td>\n",
              "      <td>5.0</td>\n",
              "      <td>NaN</td>\n",
              "      <td>http://coghlan.properati.com.ar/105vq_venta_ca...</td>\n",
              "      <td>-34.560325</td>\n",
              "      <td>-58.470994</td>\n",
              "      <td>Coghlan</td>\n",
              "    </tr>\n",
              "  </tbody>\n",
              "</table>\n",
              "</div>\n",
              "      <button class=\"colab-df-convert\" onclick=\"convertToInteractive('df-b862d8ab-e4e5-4dde-92d9-57f6442cbee9')\"\n",
              "              title=\"Convert this dataframe to an interactive table.\"\n",
              "              style=\"display:none;\">\n",
              "        \n",
              "  <svg xmlns=\"http://www.w3.org/2000/svg\" height=\"24px\"viewBox=\"0 0 24 24\"\n",
              "       width=\"24px\">\n",
              "    <path d=\"M0 0h24v24H0V0z\" fill=\"none\"/>\n",
              "    <path d=\"M18.56 5.44l.94 2.06.94-2.06 2.06-.94-2.06-.94-.94-2.06-.94 2.06-2.06.94zm-11 1L8.5 8.5l.94-2.06 2.06-.94-2.06-.94L8.5 2.5l-.94 2.06-2.06.94zm10 10l.94 2.06.94-2.06 2.06-.94-2.06-.94-.94-2.06-.94 2.06-2.06.94z\"/><path d=\"M17.41 7.96l-1.37-1.37c-.4-.4-.92-.59-1.43-.59-.52 0-1.04.2-1.43.59L10.3 9.45l-7.72 7.72c-.78.78-.78 2.05 0 2.83L4 21.41c.39.39.9.59 1.41.59.51 0 1.02-.2 1.41-.59l7.78-7.78 2.81-2.81c.8-.78.8-2.07 0-2.86zM5.41 20L4 18.59l7.72-7.72 1.47 1.35L5.41 20z\"/>\n",
              "  </svg>\n",
              "      </button>\n",
              "      \n",
              "  <style>\n",
              "    .colab-df-container {\n",
              "      display:flex;\n",
              "      flex-wrap:wrap;\n",
              "      gap: 12px;\n",
              "    }\n",
              "\n",
              "    .colab-df-convert {\n",
              "      background-color: #E8F0FE;\n",
              "      border: none;\n",
              "      border-radius: 50%;\n",
              "      cursor: pointer;\n",
              "      display: none;\n",
              "      fill: #1967D2;\n",
              "      height: 32px;\n",
              "      padding: 0 0 0 0;\n",
              "      width: 32px;\n",
              "    }\n",
              "\n",
              "    .colab-df-convert:hover {\n",
              "      background-color: #E2EBFA;\n",
              "      box-shadow: 0px 1px 2px rgba(60, 64, 67, 0.3), 0px 1px 3px 1px rgba(60, 64, 67, 0.15);\n",
              "      fill: #174EA6;\n",
              "    }\n",
              "\n",
              "    [theme=dark] .colab-df-convert {\n",
              "      background-color: #3B4455;\n",
              "      fill: #D2E3FC;\n",
              "    }\n",
              "\n",
              "    [theme=dark] .colab-df-convert:hover {\n",
              "      background-color: #434B5C;\n",
              "      box-shadow: 0px 1px 3px 1px rgba(0, 0, 0, 0.15);\n",
              "      filter: drop-shadow(0px 1px 2px rgba(0, 0, 0, 0.3));\n",
              "      fill: #FFFFFF;\n",
              "    }\n",
              "  </style>\n",
              "\n",
              "      <script>\n",
              "        const buttonEl =\n",
              "          document.querySelector('#df-b862d8ab-e4e5-4dde-92d9-57f6442cbee9 button.colab-df-convert');\n",
              "        buttonEl.style.display =\n",
              "          google.colab.kernel.accessAllowed ? 'block' : 'none';\n",
              "\n",
              "        async function convertToInteractive(key) {\n",
              "          const element = document.querySelector('#df-b862d8ab-e4e5-4dde-92d9-57f6442cbee9');\n",
              "          const dataTable =\n",
              "            await google.colab.kernel.invokeFunction('convertToInteractive',\n",
              "                                                     [key], {});\n",
              "          if (!dataTable) return;\n",
              "\n",
              "          const docLinkHtml = 'Like what you see? Visit the ' +\n",
              "            '<a target=\"_blank\" href=https://colab.research.google.com/notebooks/data_table.ipynb>data table notebook</a>'\n",
              "            + ' to learn more about interactive tables.';\n",
              "          element.innerHTML = '';\n",
              "          dataTable['output_type'] = 'display_data';\n",
              "          await google.colab.output.renderOutput(dataTable, element);\n",
              "          const docLink = document.createElement('div');\n",
              "          docLink.innerHTML = docLinkHtml;\n",
              "          element.appendChild(docLink);\n",
              "        }\n",
              "      </script>\n",
              "    </div>\n",
              "  </div>\n",
              "  "
            ]
          },
          "metadata": {},
          "execution_count": 122
        }
      ]
    },
    {
      "cell_type": "markdown",
      "source": [
        "#### 4. Missing values"
      ],
      "metadata": {
        "id": "u7GecG5up61v"
      }
    },
    {
      "cell_type": "code",
      "source": [
        "# checking missing values\n",
        "df3.isnull().sum()/len(df3)"
      ],
      "metadata": {
        "colab": {
          "base_uri": "https://localhost:8080/"
        },
        "id": "9lqocB_InCXK",
        "outputId": "0b445460-c130-49e5-d3fc-79f34e152e98"
      },
      "execution_count": null,
      "outputs": [
        {
          "output_type": "execute_result",
          "data": {
            "text/plain": [
              "operation                     0.000000\n",
              "property_type                 0.000000\n",
              "price                         0.000000\n",
              "currency                      0.000000\n",
              "price_aprox_local_currency    0.000000\n",
              "price_aprox_usd               0.000000\n",
              "surface_total_in_m2           0.323944\n",
              "surface_covered_in_m2         0.000000\n",
              "price_usd_per_m2              0.380282\n",
              "price_per_m2                  0.000000\n",
              "floor                         1.000000\n",
              "rooms                         0.323944\n",
              "expenses                      1.000000\n",
              "properati_url                 0.000000\n",
              "lat                           0.014085\n",
              "lon                           0.014085\n",
              "neighborhood                  0.000000\n",
              "dtype: float64"
            ]
          },
          "metadata": {},
          "execution_count": 123
        }
      ]
    },
    {
      "cell_type": "code",
      "source": [
        "# Drop features with high null counts\n",
        "df3.drop(columns=[\"floor\", \"expenses\"], inplace=True)"
      ],
      "metadata": {
        "id": "qORuV9iYnAfB"
      },
      "execution_count": null,
      "outputs": []
    },
    {
      "cell_type": "markdown",
      "source": [
        "#### 5. Cardinality of features"
      ],
      "metadata": {
        "id": "ykd44RHsp3WP"
      }
    },
    {
      "cell_type": "code",
      "source": [
        "# check cardinality of features\n",
        "df3.select_dtypes(\"object\").nunique()"
      ],
      "metadata": {
        "colab": {
          "base_uri": "https://localhost:8080/"
        },
        "id": "tSmfU36qqJXQ",
        "outputId": "a956656b-6b9d-42c5-beec-cae037440c88"
      },
      "execution_count": null,
      "outputs": [
        {
          "output_type": "execute_result",
          "data": {
            "text/plain": [
              "operation         1\n",
              "property_type     1\n",
              "currency          1\n",
              "properati_url    71\n",
              "neighborhood     31\n",
              "dtype: int64"
            ]
          },
          "metadata": {},
          "execution_count": 125
        }
      ]
    },
    {
      "cell_type": "code",
      "source": [
        "# Drop low- and high-cardinality categorical features\n",
        "df3.drop(columns=[\"property_type\",\"operation\",\"currency\",\"properati_url\"], inplace=True)"
      ],
      "metadata": {
        "id": "S1oPDpPAp2ko"
      },
      "execution_count": null,
      "outputs": []
    },
    {
      "cell_type": "markdown",
      "source": [
        "#### 6. Leaky features\n",
        "\n",
        "This refers to features (columns) in a dataset that contain information about the target variable (i.e., the variable being predicted), which are not available at the time of prediction.\n",
        "\n",
        "Including these leaky features in a predictive model can lead to overfitting and unrealistically high performance on the training data. This is because the model is able to directly access information about the target variable that it wouldn't have access to in a real-world scenario, where the target variable is unknown at the time of prediction"
      ],
      "metadata": {
        "id": "NBaqRCU9uacO"
      }
    },
    {
      "cell_type": "code",
      "source": [
        "df3.head()"
      ],
      "metadata": {
        "colab": {
          "base_uri": "https://localhost:8080/",
          "height": 270
        },
        "id": "GSTSlqVkufy1",
        "outputId": "a70b225a-8ac8-4ad8-c961-4839bd92e102"
      },
      "execution_count": null,
      "outputs": [
        {
          "output_type": "execute_result",
          "data": {
            "text/plain": [
              "        price  price_aprox_local_currency  price_aprox_usd  \\\n",
              "184  239000.0                   3623813.6         239000.0   \n",
              "195  240000.0                   3638976.0         240000.0   \n",
              "346  380000.0                   5761712.0         380000.0   \n",
              "439  250000.0                   3790600.0         250000.0   \n",
              "590  270000.0                   4093848.0         270000.0   \n",
              "\n",
              "     surface_total_in_m2  surface_covered_in_m2  price_usd_per_m2  \\\n",
              "184                150.0                  144.0       1593.333333   \n",
              "195                146.0                  135.0       1643.835616   \n",
              "346                225.0                  160.0       1688.888889   \n",
              "439                230.0                  190.0       1086.956522   \n",
              "590                249.0                  164.0       1084.337349   \n",
              "\n",
              "     price_per_m2  rooms        lat        lon  neighborhood  \n",
              "184   1659.722222    NaN -34.637484 -58.460145        Flores  \n",
              "195   1777.777778    5.0 -34.628398 -58.361903          Boca  \n",
              "346   2375.000000    4.0 -34.659356 -58.516778     Mataderos  \n",
              "439   1315.789474    4.0 -34.663279 -58.479543  Villa Lugano  \n",
              "590   1646.341463    5.0 -34.560325 -58.470994       Coghlan  "
            ],
            "text/html": [
              "\n",
              "  <div id=\"df-af8a99a3-308b-440b-ba72-da807e230460\">\n",
              "    <div class=\"colab-df-container\">\n",
              "      <div>\n",
              "<style scoped>\n",
              "    .dataframe tbody tr th:only-of-type {\n",
              "        vertical-align: middle;\n",
              "    }\n",
              "\n",
              "    .dataframe tbody tr th {\n",
              "        vertical-align: top;\n",
              "    }\n",
              "\n",
              "    .dataframe thead th {\n",
              "        text-align: right;\n",
              "    }\n",
              "</style>\n",
              "<table border=\"1\" class=\"dataframe\">\n",
              "  <thead>\n",
              "    <tr style=\"text-align: right;\">\n",
              "      <th></th>\n",
              "      <th>price</th>\n",
              "      <th>price_aprox_local_currency</th>\n",
              "      <th>price_aprox_usd</th>\n",
              "      <th>surface_total_in_m2</th>\n",
              "      <th>surface_covered_in_m2</th>\n",
              "      <th>price_usd_per_m2</th>\n",
              "      <th>price_per_m2</th>\n",
              "      <th>rooms</th>\n",
              "      <th>lat</th>\n",
              "      <th>lon</th>\n",
              "      <th>neighborhood</th>\n",
              "    </tr>\n",
              "  </thead>\n",
              "  <tbody>\n",
              "    <tr>\n",
              "      <th>184</th>\n",
              "      <td>239000.0</td>\n",
              "      <td>3623813.6</td>\n",
              "      <td>239000.0</td>\n",
              "      <td>150.0</td>\n",
              "      <td>144.0</td>\n",
              "      <td>1593.333333</td>\n",
              "      <td>1659.722222</td>\n",
              "      <td>NaN</td>\n",
              "      <td>-34.637484</td>\n",
              "      <td>-58.460145</td>\n",
              "      <td>Flores</td>\n",
              "    </tr>\n",
              "    <tr>\n",
              "      <th>195</th>\n",
              "      <td>240000.0</td>\n",
              "      <td>3638976.0</td>\n",
              "      <td>240000.0</td>\n",
              "      <td>146.0</td>\n",
              "      <td>135.0</td>\n",
              "      <td>1643.835616</td>\n",
              "      <td>1777.777778</td>\n",
              "      <td>5.0</td>\n",
              "      <td>-34.628398</td>\n",
              "      <td>-58.361903</td>\n",
              "      <td>Boca</td>\n",
              "    </tr>\n",
              "    <tr>\n",
              "      <th>346</th>\n",
              "      <td>380000.0</td>\n",
              "      <td>5761712.0</td>\n",
              "      <td>380000.0</td>\n",
              "      <td>225.0</td>\n",
              "      <td>160.0</td>\n",
              "      <td>1688.888889</td>\n",
              "      <td>2375.000000</td>\n",
              "      <td>4.0</td>\n",
              "      <td>-34.659356</td>\n",
              "      <td>-58.516778</td>\n",
              "      <td>Mataderos</td>\n",
              "    </tr>\n",
              "    <tr>\n",
              "      <th>439</th>\n",
              "      <td>250000.0</td>\n",
              "      <td>3790600.0</td>\n",
              "      <td>250000.0</td>\n",
              "      <td>230.0</td>\n",
              "      <td>190.0</td>\n",
              "      <td>1086.956522</td>\n",
              "      <td>1315.789474</td>\n",
              "      <td>4.0</td>\n",
              "      <td>-34.663279</td>\n",
              "      <td>-58.479543</td>\n",
              "      <td>Villa Lugano</td>\n",
              "    </tr>\n",
              "    <tr>\n",
              "      <th>590</th>\n",
              "      <td>270000.0</td>\n",
              "      <td>4093848.0</td>\n",
              "      <td>270000.0</td>\n",
              "      <td>249.0</td>\n",
              "      <td>164.0</td>\n",
              "      <td>1084.337349</td>\n",
              "      <td>1646.341463</td>\n",
              "      <td>5.0</td>\n",
              "      <td>-34.560325</td>\n",
              "      <td>-58.470994</td>\n",
              "      <td>Coghlan</td>\n",
              "    </tr>\n",
              "  </tbody>\n",
              "</table>\n",
              "</div>\n",
              "      <button class=\"colab-df-convert\" onclick=\"convertToInteractive('df-af8a99a3-308b-440b-ba72-da807e230460')\"\n",
              "              title=\"Convert this dataframe to an interactive table.\"\n",
              "              style=\"display:none;\">\n",
              "        \n",
              "  <svg xmlns=\"http://www.w3.org/2000/svg\" height=\"24px\"viewBox=\"0 0 24 24\"\n",
              "       width=\"24px\">\n",
              "    <path d=\"M0 0h24v24H0V0z\" fill=\"none\"/>\n",
              "    <path d=\"M18.56 5.44l.94 2.06.94-2.06 2.06-.94-2.06-.94-.94-2.06-.94 2.06-2.06.94zm-11 1L8.5 8.5l.94-2.06 2.06-.94-2.06-.94L8.5 2.5l-.94 2.06-2.06.94zm10 10l.94 2.06.94-2.06 2.06-.94-2.06-.94-.94-2.06-.94 2.06-2.06.94z\"/><path d=\"M17.41 7.96l-1.37-1.37c-.4-.4-.92-.59-1.43-.59-.52 0-1.04.2-1.43.59L10.3 9.45l-7.72 7.72c-.78.78-.78 2.05 0 2.83L4 21.41c.39.39.9.59 1.41.59.51 0 1.02-.2 1.41-.59l7.78-7.78 2.81-2.81c.8-.78.8-2.07 0-2.86zM5.41 20L4 18.59l7.72-7.72 1.47 1.35L5.41 20z\"/>\n",
              "  </svg>\n",
              "      </button>\n",
              "      \n",
              "  <style>\n",
              "    .colab-df-container {\n",
              "      display:flex;\n",
              "      flex-wrap:wrap;\n",
              "      gap: 12px;\n",
              "    }\n",
              "\n",
              "    .colab-df-convert {\n",
              "      background-color: #E8F0FE;\n",
              "      border: none;\n",
              "      border-radius: 50%;\n",
              "      cursor: pointer;\n",
              "      display: none;\n",
              "      fill: #1967D2;\n",
              "      height: 32px;\n",
              "      padding: 0 0 0 0;\n",
              "      width: 32px;\n",
              "    }\n",
              "\n",
              "    .colab-df-convert:hover {\n",
              "      background-color: #E2EBFA;\n",
              "      box-shadow: 0px 1px 2px rgba(60, 64, 67, 0.3), 0px 1px 3px 1px rgba(60, 64, 67, 0.15);\n",
              "      fill: #174EA6;\n",
              "    }\n",
              "\n",
              "    [theme=dark] .colab-df-convert {\n",
              "      background-color: #3B4455;\n",
              "      fill: #D2E3FC;\n",
              "    }\n",
              "\n",
              "    [theme=dark] .colab-df-convert:hover {\n",
              "      background-color: #434B5C;\n",
              "      box-shadow: 0px 1px 3px 1px rgba(0, 0, 0, 0.15);\n",
              "      filter: drop-shadow(0px 1px 2px rgba(0, 0, 0, 0.3));\n",
              "      fill: #FFFFFF;\n",
              "    }\n",
              "  </style>\n",
              "\n",
              "      <script>\n",
              "        const buttonEl =\n",
              "          document.querySelector('#df-af8a99a3-308b-440b-ba72-da807e230460 button.colab-df-convert');\n",
              "        buttonEl.style.display =\n",
              "          google.colab.kernel.accessAllowed ? 'block' : 'none';\n",
              "\n",
              "        async function convertToInteractive(key) {\n",
              "          const element = document.querySelector('#df-af8a99a3-308b-440b-ba72-da807e230460');\n",
              "          const dataTable =\n",
              "            await google.colab.kernel.invokeFunction('convertToInteractive',\n",
              "                                                     [key], {});\n",
              "          if (!dataTable) return;\n",
              "\n",
              "          const docLinkHtml = 'Like what you see? Visit the ' +\n",
              "            '<a target=\"_blank\" href=https://colab.research.google.com/notebooks/data_table.ipynb>data table notebook</a>'\n",
              "            + ' to learn more about interactive tables.';\n",
              "          element.innerHTML = '';\n",
              "          dataTable['output_type'] = 'display_data';\n",
              "          await google.colab.output.renderOutput(dataTable, element);\n",
              "          const docLink = document.createElement('div');\n",
              "          docLink.innerHTML = docLinkHtml;\n",
              "          element.appendChild(docLink);\n",
              "        }\n",
              "      </script>\n",
              "    </div>\n",
              "  </div>\n",
              "  "
            ]
          },
          "metadata": {},
          "execution_count": 127
        }
      ]
    },
    {
      "cell_type": "code",
      "source": [
        "# Drop leaky features\n",
        "df3.drop(\n",
        "    columns=\n",
        "    ['price',\n",
        "    'price_aprox_local_currency',\n",
        "    'price_per_m2',\n",
        "    'price_usd_per_m2'], inplace=True)"
      ],
      "metadata": {
        "id": "Mu1EsWoluczt"
      },
      "execution_count": null,
      "outputs": []
    },
    {
      "cell_type": "markdown",
      "source": [
        "#### 7. High Collinearity"
      ],
      "metadata": {
        "id": "CanzQBeax2Xs"
      }
    },
    {
      "cell_type": "code",
      "source": [
        "corrr = df3.select_dtypes(\"number\").corr()\n",
        "corrr.style.background_gradient(cmap=\"Spectral_r\")"
      ],
      "metadata": {
        "colab": {
          "base_uri": "https://localhost:8080/",
          "height": 237
        },
        "id": "7693JjTayAzL",
        "outputId": "1327070a-13a1-407d-c327-e19ea53d08cc"
      },
      "execution_count": null,
      "outputs": [
        {
          "output_type": "execute_result",
          "data": {
            "text/plain": [
              "<pandas.io.formats.style.Styler at 0x7f894d08e410>"
            ],
            "text/html": [
              "<style type=\"text/css\">\n",
              "#T_f0ad3_row0_col0, #T_f0ad3_row1_col1, #T_f0ad3_row2_col2, #T_f0ad3_row3_col3, #T_f0ad3_row4_col4, #T_f0ad3_row5_col5 {\n",
              "  background-color: #9e0142;\n",
              "  color: #f1f1f1;\n",
              "}\n",
              "#T_f0ad3_row0_col1, #T_f0ad3_row5_col1 {\n",
              "  background-color: #4b68ae;\n",
              "  color: #f1f1f1;\n",
              "}\n",
              "#T_f0ad3_row0_col2 {\n",
              "  background-color: #fec877;\n",
              "  color: #000000;\n",
              "}\n",
              "#T_f0ad3_row0_col3 {\n",
              "  background-color: #b5e1a2;\n",
              "  color: #000000;\n",
              "}\n",
              "#T_f0ad3_row0_col4 {\n",
              "  background-color: #c6e89f;\n",
              "  color: #000000;\n",
              "}\n",
              "#T_f0ad3_row0_col5 {\n",
              "  background-color: #5758a6;\n",
              "  color: #f1f1f1;\n",
              "}\n",
              "#T_f0ad3_row1_col0 {\n",
              "  background-color: #4e63ac;\n",
              "  color: #f1f1f1;\n",
              "}\n",
              "#T_f0ad3_row1_col2 {\n",
              "  background-color: #eaf79e;\n",
              "  color: #000000;\n",
              "}\n",
              "#T_f0ad3_row1_col3 {\n",
              "  background-color: #3b7cb7;\n",
              "  color: #f1f1f1;\n",
              "}\n",
              "#T_f0ad3_row1_col4, #T_f0ad3_row3_col4 {\n",
              "  background-color: #54aead;\n",
              "  color: #f1f1f1;\n",
              "}\n",
              "#T_f0ad3_row1_col5 {\n",
              "  background-color: #466eb1;\n",
              "  color: #f1f1f1;\n",
              "}\n",
              "#T_f0ad3_row2_col0 {\n",
              "  background-color: #fee999;\n",
              "  color: #000000;\n",
              "}\n",
              "#T_f0ad3_row2_col1 {\n",
              "  background-color: #aadca4;\n",
              "  color: #000000;\n",
              "}\n",
              "#T_f0ad3_row2_col3 {\n",
              "  background-color: #fff5ae;\n",
              "  color: #000000;\n",
              "}\n",
              "#T_f0ad3_row2_col4, #T_f0ad3_row2_col5, #T_f0ad3_row4_col1, #T_f0ad3_row4_col2, #T_f0ad3_row4_col3, #T_f0ad3_row5_col0 {\n",
              "  background-color: #5e4fa2;\n",
              "  color: #f1f1f1;\n",
              "}\n",
              "#T_f0ad3_row3_col0 {\n",
              "  background-color: #b3e0a2;\n",
              "  color: #000000;\n",
              "}\n",
              "#T_f0ad3_row3_col1 {\n",
              "  background-color: #3a7eb8;\n",
              "  color: #f1f1f1;\n",
              "}\n",
              "#T_f0ad3_row3_col2 {\n",
              "  background-color: #feda86;\n",
              "  color: #000000;\n",
              "}\n",
              "#T_f0ad3_row3_col5 {\n",
              "  background-color: #3389bd;\n",
              "  color: #f1f1f1;\n",
              "}\n",
              "#T_f0ad3_row4_col0 {\n",
              "  background-color: #6bc4a5;\n",
              "  color: #000000;\n",
              "}\n",
              "#T_f0ad3_row4_col5 {\n",
              "  background-color: #459eb4;\n",
              "  color: #f1f1f1;\n",
              "}\n",
              "#T_f0ad3_row5_col2 {\n",
              "  background-color: #4ea7b0;\n",
              "  color: #f1f1f1;\n",
              "}\n",
              "#T_f0ad3_row5_col3 {\n",
              "  background-color: #3682ba;\n",
              "  color: #f1f1f1;\n",
              "}\n",
              "#T_f0ad3_row5_col4 {\n",
              "  background-color: #97d5a4;\n",
              "  color: #000000;\n",
              "}\n",
              "</style>\n",
              "<table id=\"T_f0ad3\" class=\"dataframe\">\n",
              "  <thead>\n",
              "    <tr>\n",
              "      <th class=\"blank level0\" >&nbsp;</th>\n",
              "      <th id=\"T_f0ad3_level0_col0\" class=\"col_heading level0 col0\" >price_aprox_usd</th>\n",
              "      <th id=\"T_f0ad3_level0_col1\" class=\"col_heading level0 col1\" >surface_total_in_m2</th>\n",
              "      <th id=\"T_f0ad3_level0_col2\" class=\"col_heading level0 col2\" >surface_covered_in_m2</th>\n",
              "      <th id=\"T_f0ad3_level0_col3\" class=\"col_heading level0 col3\" >rooms</th>\n",
              "      <th id=\"T_f0ad3_level0_col4\" class=\"col_heading level0 col4\" >lat</th>\n",
              "      <th id=\"T_f0ad3_level0_col5\" class=\"col_heading level0 col5\" >lon</th>\n",
              "    </tr>\n",
              "  </thead>\n",
              "  <tbody>\n",
              "    <tr>\n",
              "      <th id=\"T_f0ad3_level0_row0\" class=\"row_heading level0 row0\" >price_aprox_usd</th>\n",
              "      <td id=\"T_f0ad3_row0_col0\" class=\"data row0 col0\" >1.000000</td>\n",
              "      <td id=\"T_f0ad3_row0_col1\" class=\"data row0 col1\" >0.049143</td>\n",
              "      <td id=\"T_f0ad3_row0_col2\" class=\"data row0 col2\" >0.577700</td>\n",
              "      <td id=\"T_f0ad3_row0_col3\" class=\"data row0 col3\" >0.324074</td>\n",
              "      <td id=\"T_f0ad3_row0_col4\" class=\"data row0 col4\" >0.219062</td>\n",
              "      <td id=\"T_f0ad3_row0_col5\" class=\"data row0 col5\" >0.012134</td>\n",
              "    </tr>\n",
              "    <tr>\n",
              "      <th id=\"T_f0ad3_level0_row1\" class=\"row_heading level0 row1\" >surface_total_in_m2</th>\n",
              "      <td id=\"T_f0ad3_row1_col0\" class=\"data row1 col0\" >0.049143</td>\n",
              "      <td id=\"T_f0ad3_row1_col1\" class=\"data row1 col1\" >1.000000</td>\n",
              "      <td id=\"T_f0ad3_row1_col2\" class=\"data row1 col2\" >0.302706</td>\n",
              "      <td id=\"T_f0ad3_row1_col3\" class=\"data row1 col3\" >0.089325</td>\n",
              "      <td id=\"T_f0ad3_row1_col4\" class=\"data row1 col4\" >0.005598</td>\n",
              "      <td id=\"T_f0ad3_row1_col5\" class=\"data row1 col5\" >0.051647</td>\n",
              "    </tr>\n",
              "    <tr>\n",
              "      <th id=\"T_f0ad3_level0_row2\" class=\"row_heading level0 row2\" >surface_covered_in_m2</th>\n",
              "      <td id=\"T_f0ad3_row2_col0\" class=\"data row2 col0\" >0.577700</td>\n",
              "      <td id=\"T_f0ad3_row2_col1\" class=\"data row2 col1\" >0.302706</td>\n",
              "      <td id=\"T_f0ad3_row2_col2\" class=\"data row2 col2\" >1.000000</td>\n",
              "      <td id=\"T_f0ad3_row2_col3\" class=\"data row2 col3\" >0.535965</td>\n",
              "      <td id=\"T_f0ad3_row2_col4\" class=\"data row2 col4\" >-0.191327</td>\n",
              "      <td id=\"T_f0ad3_row2_col5\" class=\"data row2 col5\" >-0.007206</td>\n",
              "    </tr>\n",
              "    <tr>\n",
              "      <th id=\"T_f0ad3_level0_row3\" class=\"row_heading level0 row3\" >rooms</th>\n",
              "      <td id=\"T_f0ad3_row3_col0\" class=\"data row3 col0\" >0.324074</td>\n",
              "      <td id=\"T_f0ad3_row3_col1\" class=\"data row3 col1\" >0.089325</td>\n",
              "      <td id=\"T_f0ad3_row3_col2\" class=\"data row3 col2\" >0.535965</td>\n",
              "      <td id=\"T_f0ad3_row3_col3\" class=\"data row3 col3\" >1.000000</td>\n",
              "      <td id=\"T_f0ad3_row3_col4\" class=\"data row3 col4\" >0.008669</td>\n",
              "      <td id=\"T_f0ad3_row3_col5\" class=\"data row3 col5\" >0.098479</td>\n",
              "    </tr>\n",
              "    <tr>\n",
              "      <th id=\"T_f0ad3_level0_row4\" class=\"row_heading level0 row4\" >lat</th>\n",
              "      <td id=\"T_f0ad3_row4_col0\" class=\"data row4 col0\" >0.219062</td>\n",
              "      <td id=\"T_f0ad3_row4_col1\" class=\"data row4 col1\" >0.005598</td>\n",
              "      <td id=\"T_f0ad3_row4_col2\" class=\"data row4 col2\" >-0.191327</td>\n",
              "      <td id=\"T_f0ad3_row4_col3\" class=\"data row4 col3\" >0.008669</td>\n",
              "      <td id=\"T_f0ad3_row4_col4\" class=\"data row4 col4\" >1.000000</td>\n",
              "      <td id=\"T_f0ad3_row4_col5\" class=\"data row4 col5\" >0.130581</td>\n",
              "    </tr>\n",
              "    <tr>\n",
              "      <th id=\"T_f0ad3_level0_row5\" class=\"row_heading level0 row5\" >lon</th>\n",
              "      <td id=\"T_f0ad3_row5_col0\" class=\"data row5 col0\" >0.012134</td>\n",
              "      <td id=\"T_f0ad3_row5_col1\" class=\"data row5 col1\" >0.051647</td>\n",
              "      <td id=\"T_f0ad3_row5_col2\" class=\"data row5 col2\" >-0.007206</td>\n",
              "      <td id=\"T_f0ad3_row5_col3\" class=\"data row5 col3\" >0.098479</td>\n",
              "      <td id=\"T_f0ad3_row5_col4\" class=\"data row5 col4\" >0.130581</td>\n",
              "      <td id=\"T_f0ad3_row5_col5\" class=\"data row5 col5\" >1.000000</td>\n",
              "    </tr>\n",
              "  </tbody>\n",
              "</table>\n"
            ]
          },
          "metadata": {},
          "execution_count": 129
        }
      ]
    },
    {
      "cell_type": "code",
      "source": [
        "# Drop features with high collinearity\n",
        "df3.drop(columns=['surface_total_in_m2','rooms'], inplace=True)\n",
        "print(df3.info())\n",
        "df3.head()  "
      ],
      "metadata": {
        "colab": {
          "base_uri": "https://localhost:8080/",
          "height": 431
        },
        "id": "pQIvdLDjz-oD",
        "outputId": "fabd4e2a-ce7e-40a0-e872-6fb6f17b46ae"
      },
      "execution_count": null,
      "outputs": [
        {
          "output_type": "stream",
          "name": "stdout",
          "text": [
            "<class 'pandas.core.frame.DataFrame'>\n",
            "Int64Index: 71 entries, 184 to 8600\n",
            "Data columns (total 5 columns):\n",
            " #   Column                 Non-Null Count  Dtype  \n",
            "---  ------                 --------------  -----  \n",
            " 0   price_aprox_usd        71 non-null     float64\n",
            " 1   surface_covered_in_m2  71 non-null     float64\n",
            " 2   lat                    70 non-null     float64\n",
            " 3   lon                    70 non-null     float64\n",
            " 4   neighborhood           71 non-null     object \n",
            "dtypes: float64(4), object(1)\n",
            "memory usage: 3.3+ KB\n",
            "None\n"
          ]
        },
        {
          "output_type": "execute_result",
          "data": {
            "text/plain": [
              "     price_aprox_usd  surface_covered_in_m2        lat        lon  \\\n",
              "184         239000.0                  144.0 -34.637484 -58.460145   \n",
              "195         240000.0                  135.0 -34.628398 -58.361903   \n",
              "346         380000.0                  160.0 -34.659356 -58.516778   \n",
              "439         250000.0                  190.0 -34.663279 -58.479543   \n",
              "590         270000.0                  164.0 -34.560325 -58.470994   \n",
              "\n",
              "     neighborhood  \n",
              "184        Flores  \n",
              "195          Boca  \n",
              "346     Mataderos  \n",
              "439  Villa Lugano  \n",
              "590       Coghlan  "
            ],
            "text/html": [
              "\n",
              "  <div id=\"df-fe9d7afd-815b-4038-87e1-15f98a66b42c\">\n",
              "    <div class=\"colab-df-container\">\n",
              "      <div>\n",
              "<style scoped>\n",
              "    .dataframe tbody tr th:only-of-type {\n",
              "        vertical-align: middle;\n",
              "    }\n",
              "\n",
              "    .dataframe tbody tr th {\n",
              "        vertical-align: top;\n",
              "    }\n",
              "\n",
              "    .dataframe thead th {\n",
              "        text-align: right;\n",
              "    }\n",
              "</style>\n",
              "<table border=\"1\" class=\"dataframe\">\n",
              "  <thead>\n",
              "    <tr style=\"text-align: right;\">\n",
              "      <th></th>\n",
              "      <th>price_aprox_usd</th>\n",
              "      <th>surface_covered_in_m2</th>\n",
              "      <th>lat</th>\n",
              "      <th>lon</th>\n",
              "      <th>neighborhood</th>\n",
              "    </tr>\n",
              "  </thead>\n",
              "  <tbody>\n",
              "    <tr>\n",
              "      <th>184</th>\n",
              "      <td>239000.0</td>\n",
              "      <td>144.0</td>\n",
              "      <td>-34.637484</td>\n",
              "      <td>-58.460145</td>\n",
              "      <td>Flores</td>\n",
              "    </tr>\n",
              "    <tr>\n",
              "      <th>195</th>\n",
              "      <td>240000.0</td>\n",
              "      <td>135.0</td>\n",
              "      <td>-34.628398</td>\n",
              "      <td>-58.361903</td>\n",
              "      <td>Boca</td>\n",
              "    </tr>\n",
              "    <tr>\n",
              "      <th>346</th>\n",
              "      <td>380000.0</td>\n",
              "      <td>160.0</td>\n",
              "      <td>-34.659356</td>\n",
              "      <td>-58.516778</td>\n",
              "      <td>Mataderos</td>\n",
              "    </tr>\n",
              "    <tr>\n",
              "      <th>439</th>\n",
              "      <td>250000.0</td>\n",
              "      <td>190.0</td>\n",
              "      <td>-34.663279</td>\n",
              "      <td>-58.479543</td>\n",
              "      <td>Villa Lugano</td>\n",
              "    </tr>\n",
              "    <tr>\n",
              "      <th>590</th>\n",
              "      <td>270000.0</td>\n",
              "      <td>164.0</td>\n",
              "      <td>-34.560325</td>\n",
              "      <td>-58.470994</td>\n",
              "      <td>Coghlan</td>\n",
              "    </tr>\n",
              "  </tbody>\n",
              "</table>\n",
              "</div>\n",
              "      <button class=\"colab-df-convert\" onclick=\"convertToInteractive('df-fe9d7afd-815b-4038-87e1-15f98a66b42c')\"\n",
              "              title=\"Convert this dataframe to an interactive table.\"\n",
              "              style=\"display:none;\">\n",
              "        \n",
              "  <svg xmlns=\"http://www.w3.org/2000/svg\" height=\"24px\"viewBox=\"0 0 24 24\"\n",
              "       width=\"24px\">\n",
              "    <path d=\"M0 0h24v24H0V0z\" fill=\"none\"/>\n",
              "    <path d=\"M18.56 5.44l.94 2.06.94-2.06 2.06-.94-2.06-.94-.94-2.06-.94 2.06-2.06.94zm-11 1L8.5 8.5l.94-2.06 2.06-.94-2.06-.94L8.5 2.5l-.94 2.06-2.06.94zm10 10l.94 2.06.94-2.06 2.06-.94-2.06-.94-.94-2.06-.94 2.06-2.06.94z\"/><path d=\"M17.41 7.96l-1.37-1.37c-.4-.4-.92-.59-1.43-.59-.52 0-1.04.2-1.43.59L10.3 9.45l-7.72 7.72c-.78.78-.78 2.05 0 2.83L4 21.41c.39.39.9.59 1.41.59.51 0 1.02-.2 1.41-.59l7.78-7.78 2.81-2.81c.8-.78.8-2.07 0-2.86zM5.41 20L4 18.59l7.72-7.72 1.47 1.35L5.41 20z\"/>\n",
              "  </svg>\n",
              "      </button>\n",
              "      \n",
              "  <style>\n",
              "    .colab-df-container {\n",
              "      display:flex;\n",
              "      flex-wrap:wrap;\n",
              "      gap: 12px;\n",
              "    }\n",
              "\n",
              "    .colab-df-convert {\n",
              "      background-color: #E8F0FE;\n",
              "      border: none;\n",
              "      border-radius: 50%;\n",
              "      cursor: pointer;\n",
              "      display: none;\n",
              "      fill: #1967D2;\n",
              "      height: 32px;\n",
              "      padding: 0 0 0 0;\n",
              "      width: 32px;\n",
              "    }\n",
              "\n",
              "    .colab-df-convert:hover {\n",
              "      background-color: #E2EBFA;\n",
              "      box-shadow: 0px 1px 2px rgba(60, 64, 67, 0.3), 0px 1px 3px 1px rgba(60, 64, 67, 0.15);\n",
              "      fill: #174EA6;\n",
              "    }\n",
              "\n",
              "    [theme=dark] .colab-df-convert {\n",
              "      background-color: #3B4455;\n",
              "      fill: #D2E3FC;\n",
              "    }\n",
              "\n",
              "    [theme=dark] .colab-df-convert:hover {\n",
              "      background-color: #434B5C;\n",
              "      box-shadow: 0px 1px 3px 1px rgba(0, 0, 0, 0.15);\n",
              "      filter: drop-shadow(0px 1px 2px rgba(0, 0, 0, 0.3));\n",
              "      fill: #FFFFFF;\n",
              "    }\n",
              "  </style>\n",
              "\n",
              "      <script>\n",
              "        const buttonEl =\n",
              "          document.querySelector('#df-fe9d7afd-815b-4038-87e1-15f98a66b42c button.colab-df-convert');\n",
              "        buttonEl.style.display =\n",
              "          google.colab.kernel.accessAllowed ? 'block' : 'none';\n",
              "\n",
              "        async function convertToInteractive(key) {\n",
              "          const element = document.querySelector('#df-fe9d7afd-815b-4038-87e1-15f98a66b42c');\n",
              "          const dataTable =\n",
              "            await google.colab.kernel.invokeFunction('convertToInteractive',\n",
              "                                                     [key], {});\n",
              "          if (!dataTable) return;\n",
              "\n",
              "          const docLinkHtml = 'Like what you see? Visit the ' +\n",
              "            '<a target=\"_blank\" href=https://colab.research.google.com/notebooks/data_table.ipynb>data table notebook</a>'\n",
              "            + ' to learn more about interactive tables.';\n",
              "          element.innerHTML = '';\n",
              "          dataTable['output_type'] = 'display_data';\n",
              "          await google.colab.output.renderOutput(dataTable, element);\n",
              "          const docLink = document.createElement('div');\n",
              "          docLink.innerHTML = docLinkHtml;\n",
              "          element.appendChild(docLink);\n",
              "        }\n",
              "      </script>\n",
              "    </div>\n",
              "  </div>\n",
              "  "
            ]
          },
          "metadata": {},
          "execution_count": 130
        }
      ]
    },
    {
      "cell_type": "markdown",
      "source": [
        "### Glob\n",
        "The module `glob` is commonly used for searching files with specific extensions or names. It seeks to find all the pathnames matching a specified pattern."
      ],
      "metadata": {
        "id": "RWypcWXAfSmd"
      }
    },
    {
      "cell_type": "code",
      "source": [
        "from glob import glob\n",
        "files = glob(\"/content/drive/MyDrive/DataScienceProjects/020 Housing-in-buenos-aires/data/buenos-aires-real-estate-*.csv\")\n",
        "files"
      ],
      "metadata": {
        "colab": {
          "base_uri": "https://localhost:8080/"
        },
        "id": "5a-Opp3Dqkfa",
        "outputId": "01d67de9-89f3-42b3-f09f-7c2d7940c5ea"
      },
      "execution_count": null,
      "outputs": [
        {
          "output_type": "execute_result",
          "data": {
            "text/plain": [
              "['/content/drive/MyDrive/DataScienceProjects/020 Housing-in-buenos-aires/data/buenos-aires-real-estate-1.csv',\n",
              " '/content/drive/MyDrive/DataScienceProjects/020 Housing-in-buenos-aires/data/buenos-aires-real-estate-2.csv',\n",
              " '/content/drive/MyDrive/DataScienceProjects/020 Housing-in-buenos-aires/data/buenos-aires-real-estate-3.csv',\n",
              " '/content/drive/MyDrive/DataScienceProjects/020 Housing-in-buenos-aires/data/buenos-aires-real-estate-4.csv',\n",
              " '/content/drive/MyDrive/DataScienceProjects/020 Housing-in-buenos-aires/data/buenos-aires-real-estate-5.csv']"
            ]
          },
          "metadata": {},
          "execution_count": 131
        }
      ]
    },
    {
      "cell_type": "code",
      "source": [
        "# printing file paths\n",
        "for file in files:\n",
        "  print(file)"
      ],
      "metadata": {
        "colab": {
          "base_uri": "https://localhost:8080/"
        },
        "id": "1Ac59HidZNnp",
        "outputId": "5a2d9f93-157d-4bc1-ced2-7567ac0b7de4"
      },
      "execution_count": null,
      "outputs": [
        {
          "output_type": "stream",
          "name": "stdout",
          "text": [
            "/content/drive/MyDrive/DataScienceProjects/020 Housing-in-buenos-aires/data/buenos-aires-real-estate-1.csv\n",
            "/content/drive/MyDrive/DataScienceProjects/020 Housing-in-buenos-aires/data/buenos-aires-real-estate-2.csv\n",
            "/content/drive/MyDrive/DataScienceProjects/020 Housing-in-buenos-aires/data/buenos-aires-real-estate-3.csv\n",
            "/content/drive/MyDrive/DataScienceProjects/020 Housing-in-buenos-aires/data/buenos-aires-real-estate-4.csv\n",
            "/content/drive/MyDrive/DataScienceProjects/020 Housing-in-buenos-aires/data/buenos-aires-real-estate-5.csv\n"
          ]
        }
      ]
    },
    {
      "cell_type": "code",
      "source": [
        "# prepare each file in the list and stores in frames list.\n",
        "frames = [prepare_data(file) for file in files]"
      ],
      "metadata": {
        "id": "ob3KsXHBq6Jj"
      },
      "execution_count": null,
      "outputs": []
    },
    {
      "cell_type": "code",
      "source": [
        "# checking the data type of each file in frames\n",
        "for i in range(0,5):\n",
        "  print(type(frames[i]))"
      ],
      "metadata": {
        "colab": {
          "base_uri": "https://localhost:8080/"
        },
        "id": "RD2dzCjZrtOJ",
        "outputId": "52e44fed-d2b4-4c42-d14e-4550aac817eb"
      },
      "execution_count": null,
      "outputs": [
        {
          "output_type": "stream",
          "name": "stdout",
          "text": [
            "<class 'pandas.core.frame.DataFrame'>\n",
            "<class 'pandas.core.frame.DataFrame'>\n",
            "<class 'pandas.core.frame.DataFrame'>\n",
            "<class 'pandas.core.frame.DataFrame'>\n",
            "<class 'pandas.core.frame.DataFrame'>\n"
          ]
        }
      ]
    },
    {
      "cell_type": "code",
      "source": [
        "# join the dataframes together\n",
        "df = pd.concat(frames, ignore_index=True)\n",
        "print(df.info())\n",
        "df.head()"
      ],
      "metadata": {
        "colab": {
          "base_uri": "https://localhost:8080/",
          "height": 431
        },
        "id": "oTGiVXrMcXj-",
        "outputId": "9db3eb8d-00eb-4d81-a788-c69215162b5b"
      },
      "execution_count": null,
      "outputs": [
        {
          "output_type": "stream",
          "name": "stdout",
          "text": [
            "<class 'pandas.core.frame.DataFrame'>\n",
            "RangeIndex: 329 entries, 0 to 328\n",
            "Data columns (total 5 columns):\n",
            " #   Column                 Non-Null Count  Dtype  \n",
            "---  ------                 --------------  -----  \n",
            " 0   price_aprox_usd        329 non-null    float64\n",
            " 1   surface_covered_in_m2  329 non-null    float64\n",
            " 2   lat                    319 non-null    float64\n",
            " 3   lon                    319 non-null    float64\n",
            " 4   neighborhood           329 non-null    object \n",
            "dtypes: float64(4), object(1)\n",
            "memory usage: 13.0+ KB\n",
            "None\n"
          ]
        },
        {
          "output_type": "execute_result",
          "data": {
            "text/plain": [
              "   price_aprox_usd  surface_covered_in_m2        lat        lon  neighborhood\n",
              "0         239000.0                  144.0 -34.637484 -58.460145        Flores\n",
              "1         240000.0                  135.0 -34.628398 -58.361903          Boca\n",
              "2         380000.0                  160.0 -34.659356 -58.516778     Mataderos\n",
              "3         250000.0                  190.0 -34.663279 -58.479543  Villa Lugano\n",
              "4         270000.0                  164.0 -34.560325 -58.470994       Coghlan"
            ],
            "text/html": [
              "\n",
              "  <div id=\"df-bfcb2ba3-86b5-4549-a625-e0ec3489fc9b\">\n",
              "    <div class=\"colab-df-container\">\n",
              "      <div>\n",
              "<style scoped>\n",
              "    .dataframe tbody tr th:only-of-type {\n",
              "        vertical-align: middle;\n",
              "    }\n",
              "\n",
              "    .dataframe tbody tr th {\n",
              "        vertical-align: top;\n",
              "    }\n",
              "\n",
              "    .dataframe thead th {\n",
              "        text-align: right;\n",
              "    }\n",
              "</style>\n",
              "<table border=\"1\" class=\"dataframe\">\n",
              "  <thead>\n",
              "    <tr style=\"text-align: right;\">\n",
              "      <th></th>\n",
              "      <th>price_aprox_usd</th>\n",
              "      <th>surface_covered_in_m2</th>\n",
              "      <th>lat</th>\n",
              "      <th>lon</th>\n",
              "      <th>neighborhood</th>\n",
              "    </tr>\n",
              "  </thead>\n",
              "  <tbody>\n",
              "    <tr>\n",
              "      <th>0</th>\n",
              "      <td>239000.0</td>\n",
              "      <td>144.0</td>\n",
              "      <td>-34.637484</td>\n",
              "      <td>-58.460145</td>\n",
              "      <td>Flores</td>\n",
              "    </tr>\n",
              "    <tr>\n",
              "      <th>1</th>\n",
              "      <td>240000.0</td>\n",
              "      <td>135.0</td>\n",
              "      <td>-34.628398</td>\n",
              "      <td>-58.361903</td>\n",
              "      <td>Boca</td>\n",
              "    </tr>\n",
              "    <tr>\n",
              "      <th>2</th>\n",
              "      <td>380000.0</td>\n",
              "      <td>160.0</td>\n",
              "      <td>-34.659356</td>\n",
              "      <td>-58.516778</td>\n",
              "      <td>Mataderos</td>\n",
              "    </tr>\n",
              "    <tr>\n",
              "      <th>3</th>\n",
              "      <td>250000.0</td>\n",
              "      <td>190.0</td>\n",
              "      <td>-34.663279</td>\n",
              "      <td>-58.479543</td>\n",
              "      <td>Villa Lugano</td>\n",
              "    </tr>\n",
              "    <tr>\n",
              "      <th>4</th>\n",
              "      <td>270000.0</td>\n",
              "      <td>164.0</td>\n",
              "      <td>-34.560325</td>\n",
              "      <td>-58.470994</td>\n",
              "      <td>Coghlan</td>\n",
              "    </tr>\n",
              "  </tbody>\n",
              "</table>\n",
              "</div>\n",
              "      <button class=\"colab-df-convert\" onclick=\"convertToInteractive('df-bfcb2ba3-86b5-4549-a625-e0ec3489fc9b')\"\n",
              "              title=\"Convert this dataframe to an interactive table.\"\n",
              "              style=\"display:none;\">\n",
              "        \n",
              "  <svg xmlns=\"http://www.w3.org/2000/svg\" height=\"24px\"viewBox=\"0 0 24 24\"\n",
              "       width=\"24px\">\n",
              "    <path d=\"M0 0h24v24H0V0z\" fill=\"none\"/>\n",
              "    <path d=\"M18.56 5.44l.94 2.06.94-2.06 2.06-.94-2.06-.94-.94-2.06-.94 2.06-2.06.94zm-11 1L8.5 8.5l.94-2.06 2.06-.94-2.06-.94L8.5 2.5l-.94 2.06-2.06.94zm10 10l.94 2.06.94-2.06 2.06-.94-2.06-.94-.94-2.06-.94 2.06-2.06.94z\"/><path d=\"M17.41 7.96l-1.37-1.37c-.4-.4-.92-.59-1.43-.59-.52 0-1.04.2-1.43.59L10.3 9.45l-7.72 7.72c-.78.78-.78 2.05 0 2.83L4 21.41c.39.39.9.59 1.41.59.51 0 1.02-.2 1.41-.59l7.78-7.78 2.81-2.81c.8-.78.8-2.07 0-2.86zM5.41 20L4 18.59l7.72-7.72 1.47 1.35L5.41 20z\"/>\n",
              "  </svg>\n",
              "      </button>\n",
              "      \n",
              "  <style>\n",
              "    .colab-df-container {\n",
              "      display:flex;\n",
              "      flex-wrap:wrap;\n",
              "      gap: 12px;\n",
              "    }\n",
              "\n",
              "    .colab-df-convert {\n",
              "      background-color: #E8F0FE;\n",
              "      border: none;\n",
              "      border-radius: 50%;\n",
              "      cursor: pointer;\n",
              "      display: none;\n",
              "      fill: #1967D2;\n",
              "      height: 32px;\n",
              "      padding: 0 0 0 0;\n",
              "      width: 32px;\n",
              "    }\n",
              "\n",
              "    .colab-df-convert:hover {\n",
              "      background-color: #E2EBFA;\n",
              "      box-shadow: 0px 1px 2px rgba(60, 64, 67, 0.3), 0px 1px 3px 1px rgba(60, 64, 67, 0.15);\n",
              "      fill: #174EA6;\n",
              "    }\n",
              "\n",
              "    [theme=dark] .colab-df-convert {\n",
              "      background-color: #3B4455;\n",
              "      fill: #D2E3FC;\n",
              "    }\n",
              "\n",
              "    [theme=dark] .colab-df-convert:hover {\n",
              "      background-color: #434B5C;\n",
              "      box-shadow: 0px 1px 3px 1px rgba(0, 0, 0, 0.15);\n",
              "      filter: drop-shadow(0px 1px 2px rgba(0, 0, 0, 0.3));\n",
              "      fill: #FFFFFF;\n",
              "    }\n",
              "  </style>\n",
              "\n",
              "      <script>\n",
              "        const buttonEl =\n",
              "          document.querySelector('#df-bfcb2ba3-86b5-4549-a625-e0ec3489fc9b button.colab-df-convert');\n",
              "        buttonEl.style.display =\n",
              "          google.colab.kernel.accessAllowed ? 'block' : 'none';\n",
              "\n",
              "        async function convertToInteractive(key) {\n",
              "          const element = document.querySelector('#df-bfcb2ba3-86b5-4549-a625-e0ec3489fc9b');\n",
              "          const dataTable =\n",
              "            await google.colab.kernel.invokeFunction('convertToInteractive',\n",
              "                                                     [key], {});\n",
              "          if (!dataTable) return;\n",
              "\n",
              "          const docLinkHtml = 'Like what you see? Visit the ' +\n",
              "            '<a target=\"_blank\" href=https://colab.research.google.com/notebooks/data_table.ipynb>data table notebook</a>'\n",
              "            + ' to learn more about interactive tables.';\n",
              "          element.innerHTML = '';\n",
              "          dataTable['output_type'] = 'display_data';\n",
              "          await google.colab.output.renderOutput(dataTable, element);\n",
              "          const docLink = document.createElement('div');\n",
              "          docLink.innerHTML = docLinkHtml;\n",
              "          element.appendChild(docLink);\n",
              "        }\n",
              "      </script>\n",
              "    </div>\n",
              "  </div>\n",
              "  "
            ]
          },
          "metadata": {},
          "execution_count": 135
        }
      ]
    },
    {
      "cell_type": "code",
      "source": [
        "import plotly.express as px\n",
        "\n",
        "fig = px.scatter_mapbox(\n",
        "    df,  # Our DataFrame\n",
        "    lat='lat',\n",
        "    lon=\"lon\",\n",
        "    width=600,  # Width of map\n",
        "    height=600,  # Height of map\n",
        "    color=\"price_aprox_usd\",\n",
        "    hover_data=[\"price_aprox_usd\"],  # Display price when hovering mouse over house\n",
        ")\n",
        "\n",
        "fig.update_layout(mapbox_style=\"open-street-map\")\n",
        "\n",
        "fig.show()"
      ],
      "metadata": {
        "colab": {
          "base_uri": "https://localhost:8080/",
          "height": 617
        },
        "id": "AifegvDonts7",
        "outputId": "02444960-20b0-4e98-a8b8-598f0b23004c"
      },
      "execution_count": null,
      "outputs": [
        {
          "output_type": "display_data",
          "data": {
            "text/html": [
              "<html>\n",
              "<head><meta charset=\"utf-8\" /></head>\n",
              "<body>\n",
              "    <div>            <script src=\"https://cdnjs.cloudflare.com/ajax/libs/mathjax/2.7.5/MathJax.js?config=TeX-AMS-MML_SVG\"></script><script type=\"text/javascript\">if (window.MathJax && window.MathJax.Hub && window.MathJax.Hub.Config) {window.MathJax.Hub.Config({SVG: {font: \"STIX-Web\"}});}</script>                <script type=\"text/javascript\">window.PlotlyConfig = {MathJaxConfig: 'local'};</script>\n",
              "        <script src=\"https://cdn.plot.ly/plotly-2.18.2.min.js\"></script>                <div id=\"090d9bc9-975e-41e1-8bac-b1197a818a86\" class=\"plotly-graph-div\" style=\"height:600px; width:600px;\"></div>            <script type=\"text/javascript\">                                    window.PLOTLYENV=window.PLOTLYENV || {};                                    if (document.getElementById(\"090d9bc9-975e-41e1-8bac-b1197a818a86\")) {                    Plotly.newPlot(                        \"090d9bc9-975e-41e1-8bac-b1197a818a86\",                        [{\"customdata\":[[239000.0],[240000.0],[380000.0],[250000.0],[270000.0],[189000.0],[250000.0],[339000.0],[260000.0],[255000.0],[205000.0],[279000.0],[350000.0],[290000.0],[170000.0],[190000.0],[198000.0],[220000.0],[229500.0],[260000.0],[230000.0],[325000.0],[220000.0],[285000.0],[140000.0],[349000.0],[200000.0],[150000.0],[225000.0],[290000.0],[187000.0],[339000.0],[350000.0],[235000.0],[205000.0],[180000.0],[260000.0],[390000.0],[360000.0],[230000.0],[325000.0],[240000.0],[280000.0],[210000.0],[190000.0],[130000.0],[140000.0],[195000.0],[130000.0],[200000.0],[148000.0],[108000.0],[199000.0],[300000.0],[385000.0],[150000.0],[230000.0],[275000.0],[300000.0],[149000.0],[175000.0],[139000.0],[140000.0],[179000.0],[390000.0],[117000.0],[350000.0],[149000.0],[279900.0],[195000.0],[190000.0],[200000.0],[249000.0],[126000.0],[290000.0],[140000.0],[204000.0],[265000.0],[185000.0],[279000.0],[340000.0],[130000.0],[267000.0],[265000.0],[70000.0],[315000.0],[230000.0],[190000.0],[270000.0],[242800.0],[390000.0],[380000.0],[119500.0],[310000.0],[270000.0],[100000.0],[370000.0],[189000.0],[107000.0],[209000.0],[160000.0],[345000.0],[148000.0],[96000.0],[125000.0],[206586.75],[340000.0],[189000.0],[390000.0],[150000.0],[199000.0],[245000.0],[235000.0],[254000.0],[99000.0],[298000.0],[119500.0],[48000.0],[260000.0],[299000.0],[220000.0],[345000.0],[249000.0],[250000.0],[260000.0],[119500.0],[380000.0],[325000.0],[225000.0],[275000.0],[270000.0],[235000.0],[230000.0],[385000.0],[249000.0],[200000.0],[390000.0],[220000.0],[245000.0],[280000.0],[165000.0],[260000.0],[345000.0],[285000.0],[119500.0],[255000.0],[390000.0],[315000.0],[210000.0],[330000.0],[187000.0],[279800.0],[200000.0],[240000.0],[90000.0],[125000.0],[270000.0],[210000.0],[300000.0],[220000.0],[310000.0],[295000.0],[195000.0],[270000.0],[199000.0],[288000.0],[230000.0],[272000.0],[350000.0],[320000.0],[390000.0],[320000.0],[235000.0],[345000.0],[380000.0],[125000.0],[160000.0],[210000.0],[220000.0],[165000.0],[345000.0],[355000.0],[140000.0],[120000.0],[280000.0],[160000.0],[233000.0],[225000.0],[399900.0],[140000.0],[220000.0],[249000.0],[270000.0],[245000.0],[350000.0],[264000.0],[239000.0],[390000.0],[240000.0],[385000.0],[165000.0],[120000.0],[370000.0],[175000.0],[325000.0],[145000.0],[195000.0],[155000.0],[342000.0],[260000.0],[185000.0],[285000.0],[220000.0],[175000.0],[260000.0],[138000.0],[340000.0],[290000.0],[290000.0],[275000.0],[299000.0],[110000.0],[280000.0],[300000.0],[265000.0],[285000.0],[120000.0],[335000.0],[210000.0],[195000.0],[258000.0],[380000.0],[210000.0],[52000.0],[270000.0],[350000.0],[235000.0],[210000.0],[363000.0],[140000.0],[270000.0],[328000.0],[189000.0],[285000.0],[330000.0],[85000.0],[140000.0],[170000.0],[170000.0],[150000.0],[275000.0],[140000.0],[298000.0],[315000.0],[224000.0],[325000.0],[290000.0],[310000.0],[190000.0],[270000.0],[210000.0],[399000.0],[245000.0],[128000.0],[248000.0],[390000.0],[345000.0],[340000.0],[149000.0],[190000.0],[325000.0],[320000.0],[360000.0],[235000.0],[85000.0],[185000.0],[100000.0],[198000.0],[210000.0],[65000.0],[155000.0],[349000.0],[205000.0],[360000.0],[375000.0],[275000.0],[199000.0],[398000.0],[239000.0],[250000.0],[350000.0],[215000.0],[360000.0],[363000.0],[290000.0],[65000.0],[125000.0],[369000.0],[180000.0],[234900.0],[390000.0],[245000.0],[299900.0],[145000.0],[250000.0],[280000.0],[65000.0],[230000.0],[167000.0],[135000.0],[131500.0],[248300.0],[280000.0],[58000.0],[355000.0],[200000.0],[179000.0],[391000.0],[108000.0],[180000.0],[190000.0],[310000.0],[310000.0],[55000.0],[263900.0],[360000.0],[240000.0],[230000.0],[75000.0]],\"hovertemplate\":\"lat=%{lat}<br>lon=%{lon}<br>price_aprox_usd=%{marker.color}<extra></extra>\",\"lat\":[-34.6374837,-34.628398,-34.6593562,-34.6632794,-34.5603249,-34.6375559,-34.608988627,-34.543035,-34.632439,-34.6155875,-34.6022798,-34.609781,-34.6374837,-34.64018,-34.636351,-34.6317401,-34.65188,-34.6208515,-34.64457,-34.642179,-34.656683,-34.623843,-34.594109,-34.6312511,-34.6500638,-34.628872,-34.624946,-34.5996696,-34.643395,-34.6024646741,-34.6408247,-34.5743026,-34.6367526,-34.567,-34.542438,-34.6462224,-34.6531942,-34.6286516,-34.589552,-34.6471844,-34.625033,-34.6414207,-34.6291676,-34.657911,-34.6463249294,-34.6661448,-34.6621753602,-34.63515,-34.597224,-34.6427792,-34.6717714,-34.590091,-34.641612,-34.6394066,-34.5835209,-34.6495023,-34.6182996,-34.636368,-34.6203625,-34.6050262,-34.5581622,-34.6025732,-34.6607159,-34.6580759,null,-34.6482414,-34.5787,-34.666437984,-34.641047,-34.580197,-34.6123543,-34.6666023,-34.58172,-34.6438699,-34.5995984791,-34.6607159,-34.5549752,-34.6202337,-34.618675,-34.6373072862,-34.6329525,-34.6686578,-34.62943,-34.633848,-34.6443953,-34.606879,-34.628944,null,-34.6023352,-34.6373072862,-34.6174619,-34.6054081,-34.629446,-34.638555,-34.6421658,-34.6681954,-34.6127789,-34.614288,-34.6637183,-34.63333,-34.65083,-34.6365401,-34.6571896,-34.5875617,-34.5853744,-34.564765,-34.6338305,-34.6529726,-34.5954532,-34.6436,-34.6491739,-34.628804,-34.613996,-34.6320036,-34.613635,-34.6181377672,-34.629446,-34.6214446,-34.5715258911,-34.582806,-34.6253246,-34.577168,-34.642468,-34.684961,-34.6367654,-34.629446,-34.6067008,-34.632219,-34.6398745,-34.5712889,-34.5529585,-34.6161066502,-34.649395,null,-34.574885,-34.5876641,-34.5704709,-34.6455941,-34.6113691,-34.633844,-34.6649807,-34.6135208209,-34.643787,-34.579428,-34.629446,-34.580485,-34.5844107,-34.6339616,-34.5835872542,-34.6104203,-34.570884,-34.6302352,null,-34.6101953724,-34.577168,-34.5847629,-34.648443,-34.6472570414,-34.6662528438,-34.5990848,-34.6236486,-34.6697206,-34.5844278,-34.6404945,-34.6407788933,-34.6288232448,-34.606026,-34.582169,-34.6371532,-34.580073,-34.6379322,-34.6371290777,-34.614362,-34.5642122,-34.5428059,-34.6644722617,-34.630842,-34.5669682,-34.5953629,-34.6369158,-34.652821,-34.6031011,-34.6434799,-34.6737147,-34.6377198,-34.590091,-34.609326,-34.6380172,-34.591654,-34.6607159,-34.6451508,-34.586292,-34.634603,-34.6531942,-34.598048,-34.596475,-34.6187838,-34.541401,-34.6232528,-34.587927,-34.6435471,-34.6481366,-34.5963065,-34.6396467,-34.634925,-34.6084175,-34.6554558,-34.598829,-34.6260334,-34.6094827,null,-34.5814793,-34.6511081,-34.6441506,-34.5768222,-34.642556,-34.569387,-34.6501503704,-34.584921,-34.6299133,-34.5763763,-34.5759506,-34.6456876,-34.6454817,-34.5774332,-34.6121928,-34.6626015,-34.5525821,-34.6697999,-34.614878,-34.61876,-34.635376,-34.6430638973,-34.6246941,-34.6495287,-34.6338406,-34.6310525,-34.6364861587,-34.5551849,-34.6483353,-34.608246,-34.601646,-34.64385,null,-34.5985635,-34.6660502,-34.6411436,-34.6009428,-34.6438275,-34.667354764,-34.5712889,-34.6515289,-34.637653,null,-34.632519,-34.618182,-34.6074879,-34.6236486,-34.6318964,-34.6127059,-34.6065322,-34.576346,-34.612082,-34.6512649,-34.6049238,-34.5974273,-34.564616,-34.6348991,-34.6519988,-34.61772,-34.623843,-34.6122658,-34.606976,null,-34.5649248,-34.587538,-34.6452126,-34.5593197,-34.5619487979,-34.6084175,-34.6553808,-34.5977698943,-34.6163969,-34.5522,-34.616857,-34.585752,-34.5892753,null,-34.623461,-34.646224,-34.622702,-34.6037137392,-34.6426509,-34.555727,-34.5862126,-34.6255151,null,-34.5796671973,-34.6345859,-34.634991,-34.5762461,-34.6663230633,-34.633872,-34.614678,-34.634272,-34.624094,-34.5528286924,-34.5779526,-34.6475243,-34.6022424,-34.626198,-34.6550651,-34.6091502,-34.6540423,-34.5806633,-34.6381014,-34.6083563,-34.6192662633,-34.590091,-34.6389618,-34.6649157,-34.6284523,-34.618993,-34.615974,-34.5749483,-34.607321,-34.6103499,-34.6182996,-34.6443953],\"legendgroup\":\"\",\"lon\":[-58.4601452,-58.3619026,-58.5167781,-58.4795435,-58.4709941,-58.4635107,-58.5259158037,-58.4684467,-58.43871,-58.4676402,-58.4725009,-58.501284,-58.4601452,-58.517129,-58.526326,-58.5184106,-58.505312,-58.3971282,-58.5090322,-58.370749,-58.514083,-58.520963,-58.498249,-58.4097692,-58.3794703,-58.511589,-58.526613,-58.5106788,-58.432313,-58.5241980349,-58.4534492,-58.4592073,-58.4980329,-58.4893,-58.471472,-58.4997704,-58.5090424,-58.4897728,-58.493185,-58.5271302,-58.455269,-58.5209849,-58.421672,-58.5105402,-58.5270667076,-58.5102606,-58.4917602539,-58.457394,-58.463358,-58.5252614,-58.5031862,-58.3711168,-58.453467,-58.3722213,-58.4390899,-58.4873938,-58.5137406,-58.457479,-58.4239199,-58.4657702,-58.4654978,-58.4831045,-58.4898431,-58.4849834,null,-58.4665759,-58.475,-58.5112658667,-58.467779,-58.5042285,-58.3874615,-58.503177,-58.4927192,-58.4093896,-58.4321904071,-58.4898431,-58.4567437,-58.5287286,-58.514809,-58.4565027316,-58.4806302,-58.4879996,-58.412467,-58.5248593,-58.4153267,-58.517475,-58.487997,null,-58.4532446,-58.4565027316,-58.4417039,-58.4695667,-58.424882,-58.472839,-58.506712,-58.4875777,-58.428511,-58.529019,-58.5019081,-58.4979221,-58.485112,-58.4588627,-58.5005594,-58.4124195,-58.5126881,-58.489194,-58.450685,-58.5139024,-58.4532831,-58.5164,-58.4871135,-58.388087,-58.50642,-58.4071177,-58.4444945,-58.4306386528,-58.424882,-58.5338207,-58.4936502933,-58.511503,-58.4866517,-58.538654,-58.462833,-58.470212,-58.4674462,-58.424882,-58.4777228,-58.488121,-58.5154225,-58.4986018,-58.4789976,-58.4793867028,-58.383998,null,-58.495754,-58.4641665,-58.4976738,-58.5170684,-58.4622122,-58.465698,-58.4842955,-58.4743957969,-58.466073,-58.499523,-58.424882,-58.477585,-58.4881481,-58.4764663,-58.5100962768,-58.4767582,-58.4886936,-58.5085923,null,-58.4661242781,-58.538654,-58.511609,-58.37081,-58.4599266352,-58.4794637386,-58.449254,-58.4986787,-58.5057406,-58.5158528,-58.5290348,-58.4852478,-58.4305959384,-58.4602685,-58.514773,-58.4154928,-58.498572,-58.4714138,-58.4758021075,-58.4323841,-58.4979406,-58.4660417,-58.4985902508,-58.383821,-58.4874019,-58.4683801,-58.502832,-58.519779,-58.5200972,-58.4746139,-58.4862659,-58.4706225,-58.3711168,-58.4841656,-58.4485023,-58.44394,-58.4898431,-58.4858193,-58.500409,-58.479002,-58.5090424,-58.478014,-58.513517,-58.493994,-58.465397,-58.5028866,-58.494494,-58.5228083,-58.3864674,-58.518419,-58.4630846,-58.459003,-58.3731613,-58.5027874,-58.4953028,-58.4095674,-58.4615336,null,-58.5106275,-58.4728343,-58.5224402,-58.5054799,-58.450441,-58.475912,-58.501693001,-58.516081,-58.5003351,-58.4556427,-58.5372696,-58.5051531,-58.4886442,-58.5095761,-58.4861933,-58.5133546,-58.485631,-58.5034095,-58.508111,-58.518167,-58.4078742,-58.5233232204,-58.4874438,-58.3872272,-58.451832,-58.437575,-58.4608701957,-58.4886389,-58.4568109,-58.502908,-58.48717,-58.415094,null,-58.5034526,-58.4895099,-58.4897549,-58.402444,-58.4077027,-58.4842608694,-58.4986018,-58.3777336,-58.456718,null,-58.387635,-58.483336,-58.5200926,-58.4986787,-58.4937696,-58.5269413,-58.4875587,-58.450119,-58.447055,-58.3809169,-58.4790573,-58.4310894,-58.4987717,-58.4757142,-58.3797138,-58.51826,-58.520963,-58.4529253,-58.480214,null,-58.4641805,-58.466409,-58.4055698,-58.4836549,-58.4792588247,-58.3731613,-58.516713,-58.4157595927,-58.3772389,-58.474667,-58.516424,-58.48131,-58.393067,null,-58.529996,-58.369771,-58.403728,-58.3815808896,-58.3789087,-58.489191,-58.4487919,-58.4776174,null,-58.5060574767,-58.3638706,-58.458982,-58.4709272,-58.5076260567,-58.474706,-58.529628,-58.4782902,-58.509783,-58.4652718008,-58.5086203,-58.4829358,-58.4680686,-58.447037,-58.5197974,-58.5260982,-58.5252932,-58.458537,-58.5039079,-58.5008821,-58.4540051116,-58.3711168,-58.4780281,-58.4893031,-58.5264973,-58.512744,-58.438168,-58.5073257,-58.45999,-58.4659276,-58.5137406,-58.4153267],\"marker\":{\"color\":[239000.0,240000.0,380000.0,250000.0,270000.0,189000.0,250000.0,339000.0,260000.0,255000.0,205000.0,279000.0,350000.0,290000.0,170000.0,190000.0,198000.0,220000.0,229500.0,260000.0,230000.0,325000.0,220000.0,285000.0,140000.0,349000.0,200000.0,150000.0,225000.0,290000.0,187000.0,339000.0,350000.0,235000.0,205000.0,180000.0,260000.0,390000.0,360000.0,230000.0,325000.0,240000.0,280000.0,210000.0,190000.0,130000.0,140000.0,195000.0,130000.0,200000.0,148000.0,108000.0,199000.0,300000.0,385000.0,150000.0,230000.0,275000.0,300000.0,149000.0,175000.0,139000.0,140000.0,179000.0,390000.0,117000.0,350000.0,149000.0,279900.0,195000.0,190000.0,200000.0,249000.0,126000.0,290000.0,140000.0,204000.0,265000.0,185000.0,279000.0,340000.0,130000.0,267000.0,265000.0,70000.0,315000.0,230000.0,190000.0,270000.0,242800.0,390000.0,380000.0,119500.0,310000.0,270000.0,100000.0,370000.0,189000.0,107000.0,209000.0,160000.0,345000.0,148000.0,96000.0,125000.0,206586.75,340000.0,189000.0,390000.0,150000.0,199000.0,245000.0,235000.0,254000.0,99000.0,298000.0,119500.0,48000.0,260000.0,299000.0,220000.0,345000.0,249000.0,250000.0,260000.0,119500.0,380000.0,325000.0,225000.0,275000.0,270000.0,235000.0,230000.0,385000.0,249000.0,200000.0,390000.0,220000.0,245000.0,280000.0,165000.0,260000.0,345000.0,285000.0,119500.0,255000.0,390000.0,315000.0,210000.0,330000.0,187000.0,279800.0,200000.0,240000.0,90000.0,125000.0,270000.0,210000.0,300000.0,220000.0,310000.0,295000.0,195000.0,270000.0,199000.0,288000.0,230000.0,272000.0,350000.0,320000.0,390000.0,320000.0,235000.0,345000.0,380000.0,125000.0,160000.0,210000.0,220000.0,165000.0,345000.0,355000.0,140000.0,120000.0,280000.0,160000.0,233000.0,225000.0,399900.0,140000.0,220000.0,249000.0,270000.0,245000.0,350000.0,264000.0,239000.0,390000.0,240000.0,385000.0,165000.0,120000.0,370000.0,175000.0,325000.0,145000.0,195000.0,155000.0,342000.0,260000.0,185000.0,285000.0,220000.0,175000.0,260000.0,138000.0,340000.0,290000.0,290000.0,275000.0,299000.0,110000.0,280000.0,300000.0,265000.0,285000.0,120000.0,335000.0,210000.0,195000.0,258000.0,380000.0,210000.0,52000.0,270000.0,350000.0,235000.0,210000.0,363000.0,140000.0,270000.0,328000.0,189000.0,285000.0,330000.0,85000.0,140000.0,170000.0,170000.0,150000.0,275000.0,140000.0,298000.0,315000.0,224000.0,325000.0,290000.0,310000.0,190000.0,270000.0,210000.0,399000.0,245000.0,128000.0,248000.0,390000.0,345000.0,340000.0,149000.0,190000.0,325000.0,320000.0,360000.0,235000.0,85000.0,185000.0,100000.0,198000.0,210000.0,65000.0,155000.0,349000.0,205000.0,360000.0,375000.0,275000.0,199000.0,398000.0,239000.0,250000.0,350000.0,215000.0,360000.0,363000.0,290000.0,65000.0,125000.0,369000.0,180000.0,234900.0,390000.0,245000.0,299900.0,145000.0,250000.0,280000.0,65000.0,230000.0,167000.0,135000.0,131500.0,248300.0,280000.0,58000.0,355000.0,200000.0,179000.0,391000.0,108000.0,180000.0,190000.0,310000.0,310000.0,55000.0,263900.0,360000.0,240000.0,230000.0,75000.0],\"coloraxis\":\"coloraxis\"},\"mode\":\"markers\",\"name\":\"\",\"showlegend\":false,\"subplot\":\"mapbox\",\"type\":\"scattermapbox\"}],                        {\"template\":{\"data\":{\"histogram2dcontour\":[{\"type\":\"histogram2dcontour\",\"colorbar\":{\"outlinewidth\":0,\"ticks\":\"\"},\"colorscale\":[[0.0,\"#0d0887\"],[0.1111111111111111,\"#46039f\"],[0.2222222222222222,\"#7201a8\"],[0.3333333333333333,\"#9c179e\"],[0.4444444444444444,\"#bd3786\"],[0.5555555555555556,\"#d8576b\"],[0.6666666666666666,\"#ed7953\"],[0.7777777777777778,\"#fb9f3a\"],[0.8888888888888888,\"#fdca26\"],[1.0,\"#f0f921\"]]}],\"choropleth\":[{\"type\":\"choropleth\",\"colorbar\":{\"outlinewidth\":0,\"ticks\":\"\"}}],\"histogram2d\":[{\"type\":\"histogram2d\",\"colorbar\":{\"outlinewidth\":0,\"ticks\":\"\"},\"colorscale\":[[0.0,\"#0d0887\"],[0.1111111111111111,\"#46039f\"],[0.2222222222222222,\"#7201a8\"],[0.3333333333333333,\"#9c179e\"],[0.4444444444444444,\"#bd3786\"],[0.5555555555555556,\"#d8576b\"],[0.6666666666666666,\"#ed7953\"],[0.7777777777777778,\"#fb9f3a\"],[0.8888888888888888,\"#fdca26\"],[1.0,\"#f0f921\"]]}],\"heatmap\":[{\"type\":\"heatmap\",\"colorbar\":{\"outlinewidth\":0,\"ticks\":\"\"},\"colorscale\":[[0.0,\"#0d0887\"],[0.1111111111111111,\"#46039f\"],[0.2222222222222222,\"#7201a8\"],[0.3333333333333333,\"#9c179e\"],[0.4444444444444444,\"#bd3786\"],[0.5555555555555556,\"#d8576b\"],[0.6666666666666666,\"#ed7953\"],[0.7777777777777778,\"#fb9f3a\"],[0.8888888888888888,\"#fdca26\"],[1.0,\"#f0f921\"]]}],\"heatmapgl\":[{\"type\":\"heatmapgl\",\"colorbar\":{\"outlinewidth\":0,\"ticks\":\"\"},\"colorscale\":[[0.0,\"#0d0887\"],[0.1111111111111111,\"#46039f\"],[0.2222222222222222,\"#7201a8\"],[0.3333333333333333,\"#9c179e\"],[0.4444444444444444,\"#bd3786\"],[0.5555555555555556,\"#d8576b\"],[0.6666666666666666,\"#ed7953\"],[0.7777777777777778,\"#fb9f3a\"],[0.8888888888888888,\"#fdca26\"],[1.0,\"#f0f921\"]]}],\"contourcarpet\":[{\"type\":\"contourcarpet\",\"colorbar\":{\"outlinewidth\":0,\"ticks\":\"\"}}],\"contour\":[{\"type\":\"contour\",\"colorbar\":{\"outlinewidth\":0,\"ticks\":\"\"},\"colorscale\":[[0.0,\"#0d0887\"],[0.1111111111111111,\"#46039f\"],[0.2222222222222222,\"#7201a8\"],[0.3333333333333333,\"#9c179e\"],[0.4444444444444444,\"#bd3786\"],[0.5555555555555556,\"#d8576b\"],[0.6666666666666666,\"#ed7953\"],[0.7777777777777778,\"#fb9f3a\"],[0.8888888888888888,\"#fdca26\"],[1.0,\"#f0f921\"]]}],\"surface\":[{\"type\":\"surface\",\"colorbar\":{\"outlinewidth\":0,\"ticks\":\"\"},\"colorscale\":[[0.0,\"#0d0887\"],[0.1111111111111111,\"#46039f\"],[0.2222222222222222,\"#7201a8\"],[0.3333333333333333,\"#9c179e\"],[0.4444444444444444,\"#bd3786\"],[0.5555555555555556,\"#d8576b\"],[0.6666666666666666,\"#ed7953\"],[0.7777777777777778,\"#fb9f3a\"],[0.8888888888888888,\"#fdca26\"],[1.0,\"#f0f921\"]]}],\"mesh3d\":[{\"type\":\"mesh3d\",\"colorbar\":{\"outlinewidth\":0,\"ticks\":\"\"}}],\"scatter\":[{\"fillpattern\":{\"fillmode\":\"overlay\",\"size\":10,\"solidity\":0.2},\"type\":\"scatter\"}],\"parcoords\":[{\"type\":\"parcoords\",\"line\":{\"colorbar\":{\"outlinewidth\":0,\"ticks\":\"\"}}}],\"scatterpolargl\":[{\"type\":\"scatterpolargl\",\"marker\":{\"colorbar\":{\"outlinewidth\":0,\"ticks\":\"\"}}}],\"bar\":[{\"error_x\":{\"color\":\"#2a3f5f\"},\"error_y\":{\"color\":\"#2a3f5f\"},\"marker\":{\"line\":{\"color\":\"#E5ECF6\",\"width\":0.5},\"pattern\":{\"fillmode\":\"overlay\",\"size\":10,\"solidity\":0.2}},\"type\":\"bar\"}],\"scattergeo\":[{\"type\":\"scattergeo\",\"marker\":{\"colorbar\":{\"outlinewidth\":0,\"ticks\":\"\"}}}],\"scatterpolar\":[{\"type\":\"scatterpolar\",\"marker\":{\"colorbar\":{\"outlinewidth\":0,\"ticks\":\"\"}}}],\"histogram\":[{\"marker\":{\"pattern\":{\"fillmode\":\"overlay\",\"size\":10,\"solidity\":0.2}},\"type\":\"histogram\"}],\"scattergl\":[{\"type\":\"scattergl\",\"marker\":{\"colorbar\":{\"outlinewidth\":0,\"ticks\":\"\"}}}],\"scatter3d\":[{\"type\":\"scatter3d\",\"line\":{\"colorbar\":{\"outlinewidth\":0,\"ticks\":\"\"}},\"marker\":{\"colorbar\":{\"outlinewidth\":0,\"ticks\":\"\"}}}],\"scattermapbox\":[{\"type\":\"scattermapbox\",\"marker\":{\"colorbar\":{\"outlinewidth\":0,\"ticks\":\"\"}}}],\"scatterternary\":[{\"type\":\"scatterternary\",\"marker\":{\"colorbar\":{\"outlinewidth\":0,\"ticks\":\"\"}}}],\"scattercarpet\":[{\"type\":\"scattercarpet\",\"marker\":{\"colorbar\":{\"outlinewidth\":0,\"ticks\":\"\"}}}],\"carpet\":[{\"aaxis\":{\"endlinecolor\":\"#2a3f5f\",\"gridcolor\":\"white\",\"linecolor\":\"white\",\"minorgridcolor\":\"white\",\"startlinecolor\":\"#2a3f5f\"},\"baxis\":{\"endlinecolor\":\"#2a3f5f\",\"gridcolor\":\"white\",\"linecolor\":\"white\",\"minorgridcolor\":\"white\",\"startlinecolor\":\"#2a3f5f\"},\"type\":\"carpet\"}],\"table\":[{\"cells\":{\"fill\":{\"color\":\"#EBF0F8\"},\"line\":{\"color\":\"white\"}},\"header\":{\"fill\":{\"color\":\"#C8D4E3\"},\"line\":{\"color\":\"white\"}},\"type\":\"table\"}],\"barpolar\":[{\"marker\":{\"line\":{\"color\":\"#E5ECF6\",\"width\":0.5},\"pattern\":{\"fillmode\":\"overlay\",\"size\":10,\"solidity\":0.2}},\"type\":\"barpolar\"}],\"pie\":[{\"automargin\":true,\"type\":\"pie\"}]},\"layout\":{\"autotypenumbers\":\"strict\",\"colorway\":[\"#636efa\",\"#EF553B\",\"#00cc96\",\"#ab63fa\",\"#FFA15A\",\"#19d3f3\",\"#FF6692\",\"#B6E880\",\"#FF97FF\",\"#FECB52\"],\"font\":{\"color\":\"#2a3f5f\"},\"hovermode\":\"closest\",\"hoverlabel\":{\"align\":\"left\"},\"paper_bgcolor\":\"white\",\"plot_bgcolor\":\"#E5ECF6\",\"polar\":{\"bgcolor\":\"#E5ECF6\",\"angularaxis\":{\"gridcolor\":\"white\",\"linecolor\":\"white\",\"ticks\":\"\"},\"radialaxis\":{\"gridcolor\":\"white\",\"linecolor\":\"white\",\"ticks\":\"\"}},\"ternary\":{\"bgcolor\":\"#E5ECF6\",\"aaxis\":{\"gridcolor\":\"white\",\"linecolor\":\"white\",\"ticks\":\"\"},\"baxis\":{\"gridcolor\":\"white\",\"linecolor\":\"white\",\"ticks\":\"\"},\"caxis\":{\"gridcolor\":\"white\",\"linecolor\":\"white\",\"ticks\":\"\"}},\"coloraxis\":{\"colorbar\":{\"outlinewidth\":0,\"ticks\":\"\"}},\"colorscale\":{\"sequential\":[[0.0,\"#0d0887\"],[0.1111111111111111,\"#46039f\"],[0.2222222222222222,\"#7201a8\"],[0.3333333333333333,\"#9c179e\"],[0.4444444444444444,\"#bd3786\"],[0.5555555555555556,\"#d8576b\"],[0.6666666666666666,\"#ed7953\"],[0.7777777777777778,\"#fb9f3a\"],[0.8888888888888888,\"#fdca26\"],[1.0,\"#f0f921\"]],\"sequentialminus\":[[0.0,\"#0d0887\"],[0.1111111111111111,\"#46039f\"],[0.2222222222222222,\"#7201a8\"],[0.3333333333333333,\"#9c179e\"],[0.4444444444444444,\"#bd3786\"],[0.5555555555555556,\"#d8576b\"],[0.6666666666666666,\"#ed7953\"],[0.7777777777777778,\"#fb9f3a\"],[0.8888888888888888,\"#fdca26\"],[1.0,\"#f0f921\"]],\"diverging\":[[0,\"#8e0152\"],[0.1,\"#c51b7d\"],[0.2,\"#de77ae\"],[0.3,\"#f1b6da\"],[0.4,\"#fde0ef\"],[0.5,\"#f7f7f7\"],[0.6,\"#e6f5d0\"],[0.7,\"#b8e186\"],[0.8,\"#7fbc41\"],[0.9,\"#4d9221\"],[1,\"#276419\"]]},\"xaxis\":{\"gridcolor\":\"white\",\"linecolor\":\"white\",\"ticks\":\"\",\"title\":{\"standoff\":15},\"zerolinecolor\":\"white\",\"automargin\":true,\"zerolinewidth\":2},\"yaxis\":{\"gridcolor\":\"white\",\"linecolor\":\"white\",\"ticks\":\"\",\"title\":{\"standoff\":15},\"zerolinecolor\":\"white\",\"automargin\":true,\"zerolinewidth\":2},\"scene\":{\"xaxis\":{\"backgroundcolor\":\"#E5ECF6\",\"gridcolor\":\"white\",\"linecolor\":\"white\",\"showbackground\":true,\"ticks\":\"\",\"zerolinecolor\":\"white\",\"gridwidth\":2},\"yaxis\":{\"backgroundcolor\":\"#E5ECF6\",\"gridcolor\":\"white\",\"linecolor\":\"white\",\"showbackground\":true,\"ticks\":\"\",\"zerolinecolor\":\"white\",\"gridwidth\":2},\"zaxis\":{\"backgroundcolor\":\"#E5ECF6\",\"gridcolor\":\"white\",\"linecolor\":\"white\",\"showbackground\":true,\"ticks\":\"\",\"zerolinecolor\":\"white\",\"gridwidth\":2}},\"shapedefaults\":{\"line\":{\"color\":\"#2a3f5f\"}},\"annotationdefaults\":{\"arrowcolor\":\"#2a3f5f\",\"arrowhead\":0,\"arrowwidth\":1},\"geo\":{\"bgcolor\":\"white\",\"landcolor\":\"#E5ECF6\",\"subunitcolor\":\"white\",\"showland\":true,\"showlakes\":true,\"lakecolor\":\"white\"},\"title\":{\"x\":0.05},\"mapbox\":{\"style\":\"light\"}}},\"mapbox\":{\"domain\":{\"x\":[0.0,1.0],\"y\":[0.0,1.0]},\"center\":{\"lat\":-34.61937545229781,\"lon\":-58.473386467547336},\"zoom\":8,\"style\":\"open-street-map\"},\"coloraxis\":{\"colorbar\":{\"title\":{\"text\":\"price_aprox_usd\"}},\"colorscale\":[[0.0,\"#0d0887\"],[0.1111111111111111,\"#46039f\"],[0.2222222222222222,\"#7201a8\"],[0.3333333333333333,\"#9c179e\"],[0.4444444444444444,\"#bd3786\"],[0.5555555555555556,\"#d8576b\"],[0.6666666666666666,\"#ed7953\"],[0.7777777777777778,\"#fb9f3a\"],[0.8888888888888888,\"#fdca26\"],[1.0,\"#f0f921\"]]},\"legend\":{\"tracegroupgap\":0},\"margin\":{\"t\":60},\"height\":600,\"width\":600},                        {\"responsive\": true}                    ).then(function(){\n",
              "                            \n",
              "var gd = document.getElementById('090d9bc9-975e-41e1-8bac-b1197a818a86');\n",
              "var x = new MutationObserver(function (mutations, observer) {{\n",
              "        var display = window.getComputedStyle(gd).display;\n",
              "        if (!display || display === 'none') {{\n",
              "            console.log([gd, 'removed!']);\n",
              "            Plotly.purge(gd);\n",
              "            observer.disconnect();\n",
              "        }}\n",
              "}});\n",
              "\n",
              "// Listen for the removal of the full notebook cells\n",
              "var notebookContainer = gd.closest('#notebook-container');\n",
              "if (notebookContainer) {{\n",
              "    x.observe(notebookContainer, {childList: true});\n",
              "}}\n",
              "\n",
              "// Listen for the clearing of the current output cell\n",
              "var outputEl = gd.closest('.output');\n",
              "if (outputEl) {{\n",
              "    x.observe(outputEl, {childList: true});\n",
              "}}\n",
              "\n",
              "                        })                };                            </script>        </div>\n",
              "</body>\n",
              "</html>"
            ]
          },
          "metadata": {}
        }
      ]
    },
    {
      "cell_type": "markdown",
      "source": [
        "## Split"
      ],
      "metadata": {
        "id": "HQo7AxWEJYgh"
      }
    },
    {
      "cell_type": "code",
      "source": [
        "# Separate features from the target.\n",
        "target = \"price_aprox_usd\"\n",
        "features =[\"lat\",\"lon\",\"surface_covered_in_m2\",\"neighborhood\"]\n",
        "X = df[features] # dataframe\n",
        "y = df[target] # series"
      ],
      "metadata": {
        "id": "oB-Y5ENrJa6R"
      },
      "execution_count": null,
      "outputs": []
    },
    {
      "cell_type": "code",
      "source": [
        "from sklearn.model_selection import train_test_split\n",
        "\n",
        "# split into train and test sets\n",
        "X_train, X_test, y_train, y_test = train_test_split(X, y, test_size=0.2, random_state=42)"
      ],
      "metadata": {
        "id": "FzGVQCVytoc5"
      },
      "execution_count": null,
      "outputs": []
    },
    {
      "cell_type": "markdown",
      "source": [
        "# **Build Model**"
      ],
      "metadata": {
        "id": "AorEcAHWI0b5"
      }
    },
    {
      "cell_type": "markdown",
      "source": [
        "## Baseline"
      ],
      "metadata": {
        "id": "BWTTOGPzJdZR"
      }
    },
    {
      "cell_type": "code",
      "source": [
        "y_train.mean()"
      ],
      "metadata": {
        "colab": {
          "base_uri": "https://localhost:8080/"
        },
        "id": "SKfhZv0Pu7Tj",
        "outputId": "6d38352e-d503-407c-b500-3b3429f50992"
      },
      "execution_count": null,
      "outputs": [
        {
          "output_type": "execute_result",
          "data": {
            "text/plain": [
              "243066.48954372623"
            ]
          },
          "metadata": {},
          "execution_count": 139
        }
      ]
    },
    {
      "cell_type": "code",
      "source": [
        "y_mean = y_train.mean()\n",
        "y_pred_baseline = [y_mean]*len(y_train)\n",
        "print(\"Mean apt price:\",round(y_mean,2))\n",
        "\n",
        "print(\"Baseline R-squared:\", round(r2_score(y_train,y_pred_baseline),2))"
      ],
      "metadata": {
        "colab": {
          "base_uri": "https://localhost:8080/"
        },
        "id": "gQJ6mLeA1yup",
        "outputId": "d95c76da-7308-4e8d-84ff-679b6c44eb04"
      },
      "execution_count": null,
      "outputs": [
        {
          "output_type": "stream",
          "name": "stdout",
          "text": [
            "Mean apt price: 243066.49\n",
            "Baseline R-squared: 0.0\n"
          ]
        }
      ]
    },
    {
      "cell_type": "markdown",
      "source": [
        "## Iterate"
      ],
      "metadata": {
        "id": "pIRPiou2JfCy"
      }
    },
    {
      "cell_type": "code",
      "source": [
        "model_lr = make_pipeline(\n",
        "    OneHotEncoder(use_cat_names=True), # encode cat features\n",
        "    SimpleImputer(), # imputation\n",
        "    LinearRegression()) # build model\n",
        "\n",
        "# fit the model\n",
        "model_lr.fit(X_train, y_train)"
      ],
      "metadata": {
        "colab": {
          "base_uri": "https://localhost:8080/",
          "height": 159
        },
        "id": "pH48ay1d3IOf",
        "outputId": "b557b46f-fb38-4784-dcad-83bda63bcdb1"
      },
      "execution_count": null,
      "outputs": [
        {
          "output_type": "execute_result",
          "data": {
            "text/plain": [
              "Pipeline(steps=[('onehotencoder',\n",
              "                 OneHotEncoder(cols=['neighborhood'], use_cat_names=True)),\n",
              "                ('simpleimputer', SimpleImputer()),\n",
              "                ('linearregression', LinearRegression())])"
            ],
            "text/html": [
              "<style>#sk-container-id-15 {color: black;background-color: white;}#sk-container-id-15 pre{padding: 0;}#sk-container-id-15 div.sk-toggleable {background-color: white;}#sk-container-id-15 label.sk-toggleable__label {cursor: pointer;display: block;width: 100%;margin-bottom: 0;padding: 0.3em;box-sizing: border-box;text-align: center;}#sk-container-id-15 label.sk-toggleable__label-arrow:before {content: \"▸\";float: left;margin-right: 0.25em;color: #696969;}#sk-container-id-15 label.sk-toggleable__label-arrow:hover:before {color: black;}#sk-container-id-15 div.sk-estimator:hover label.sk-toggleable__label-arrow:before {color: black;}#sk-container-id-15 div.sk-toggleable__content {max-height: 0;max-width: 0;overflow: hidden;text-align: left;background-color: #f0f8ff;}#sk-container-id-15 div.sk-toggleable__content pre {margin: 0.2em;color: black;border-radius: 0.25em;background-color: #f0f8ff;}#sk-container-id-15 input.sk-toggleable__control:checked~div.sk-toggleable__content {max-height: 200px;max-width: 100%;overflow: auto;}#sk-container-id-15 input.sk-toggleable__control:checked~label.sk-toggleable__label-arrow:before {content: \"▾\";}#sk-container-id-15 div.sk-estimator input.sk-toggleable__control:checked~label.sk-toggleable__label {background-color: #d4ebff;}#sk-container-id-15 div.sk-label input.sk-toggleable__control:checked~label.sk-toggleable__label {background-color: #d4ebff;}#sk-container-id-15 input.sk-hidden--visually {border: 0;clip: rect(1px 1px 1px 1px);clip: rect(1px, 1px, 1px, 1px);height: 1px;margin: -1px;overflow: hidden;padding: 0;position: absolute;width: 1px;}#sk-container-id-15 div.sk-estimator {font-family: monospace;background-color: #f0f8ff;border: 1px dotted black;border-radius: 0.25em;box-sizing: border-box;margin-bottom: 0.5em;}#sk-container-id-15 div.sk-estimator:hover {background-color: #d4ebff;}#sk-container-id-15 div.sk-parallel-item::after {content: \"\";width: 100%;border-bottom: 1px solid gray;flex-grow: 1;}#sk-container-id-15 div.sk-label:hover label.sk-toggleable__label {background-color: #d4ebff;}#sk-container-id-15 div.sk-serial::before {content: \"\";position: absolute;border-left: 1px solid gray;box-sizing: border-box;top: 0;bottom: 0;left: 50%;z-index: 0;}#sk-container-id-15 div.sk-serial {display: flex;flex-direction: column;align-items: center;background-color: white;padding-right: 0.2em;padding-left: 0.2em;position: relative;}#sk-container-id-15 div.sk-item {position: relative;z-index: 1;}#sk-container-id-15 div.sk-parallel {display: flex;align-items: stretch;justify-content: center;background-color: white;position: relative;}#sk-container-id-15 div.sk-item::before, #sk-container-id-15 div.sk-parallel-item::before {content: \"\";position: absolute;border-left: 1px solid gray;box-sizing: border-box;top: 0;bottom: 0;left: 50%;z-index: -1;}#sk-container-id-15 div.sk-parallel-item {display: flex;flex-direction: column;z-index: 1;position: relative;background-color: white;}#sk-container-id-15 div.sk-parallel-item:first-child::after {align-self: flex-end;width: 50%;}#sk-container-id-15 div.sk-parallel-item:last-child::after {align-self: flex-start;width: 50%;}#sk-container-id-15 div.sk-parallel-item:only-child::after {width: 0;}#sk-container-id-15 div.sk-dashed-wrapped {border: 1px dashed gray;margin: 0 0.4em 0.5em 0.4em;box-sizing: border-box;padding-bottom: 0.4em;background-color: white;}#sk-container-id-15 div.sk-label label {font-family: monospace;font-weight: bold;display: inline-block;line-height: 1.2em;}#sk-container-id-15 div.sk-label-container {text-align: center;}#sk-container-id-15 div.sk-container {/* jupyter's `normalize.less` sets `[hidden] { display: none; }` but bootstrap.min.css set `[hidden] { display: none !important; }` so we also need the `!important` here to be able to override the default hidden behavior on the sphinx rendered scikit-learn.org. See: https://github.com/scikit-learn/scikit-learn/issues/21755 */display: inline-block !important;position: relative;}#sk-container-id-15 div.sk-text-repr-fallback {display: none;}</style><div id=\"sk-container-id-15\" class=\"sk-top-container\"><div class=\"sk-text-repr-fallback\"><pre>Pipeline(steps=[(&#x27;onehotencoder&#x27;,\n",
              "                 OneHotEncoder(cols=[&#x27;neighborhood&#x27;], use_cat_names=True)),\n",
              "                (&#x27;simpleimputer&#x27;, SimpleImputer()),\n",
              "                (&#x27;linearregression&#x27;, LinearRegression())])</pre><b>In a Jupyter environment, please rerun this cell to show the HTML representation or trust the notebook. <br />On GitHub, the HTML representation is unable to render, please try loading this page with nbviewer.org.</b></div><div class=\"sk-container\" hidden><div class=\"sk-item sk-dashed-wrapped\"><div class=\"sk-label-container\"><div class=\"sk-label sk-toggleable\"><input class=\"sk-toggleable__control sk-hidden--visually\" id=\"sk-estimator-id-55\" type=\"checkbox\" ><label for=\"sk-estimator-id-55\" class=\"sk-toggleable__label sk-toggleable__label-arrow\">Pipeline</label><div class=\"sk-toggleable__content\"><pre>Pipeline(steps=[(&#x27;onehotencoder&#x27;,\n",
              "                 OneHotEncoder(cols=[&#x27;neighborhood&#x27;], use_cat_names=True)),\n",
              "                (&#x27;simpleimputer&#x27;, SimpleImputer()),\n",
              "                (&#x27;linearregression&#x27;, LinearRegression())])</pre></div></div></div><div class=\"sk-serial\"><div class=\"sk-item\"><div class=\"sk-estimator sk-toggleable\"><input class=\"sk-toggleable__control sk-hidden--visually\" id=\"sk-estimator-id-56\" type=\"checkbox\" ><label for=\"sk-estimator-id-56\" class=\"sk-toggleable__label sk-toggleable__label-arrow\">OneHotEncoder</label><div class=\"sk-toggleable__content\"><pre>OneHotEncoder(cols=[&#x27;neighborhood&#x27;], use_cat_names=True)</pre></div></div></div><div class=\"sk-item\"><div class=\"sk-estimator sk-toggleable\"><input class=\"sk-toggleable__control sk-hidden--visually\" id=\"sk-estimator-id-57\" type=\"checkbox\" ><label for=\"sk-estimator-id-57\" class=\"sk-toggleable__label sk-toggleable__label-arrow\">SimpleImputer</label><div class=\"sk-toggleable__content\"><pre>SimpleImputer()</pre></div></div></div><div class=\"sk-item\"><div class=\"sk-estimator sk-toggleable\"><input class=\"sk-toggleable__control sk-hidden--visually\" id=\"sk-estimator-id-58\" type=\"checkbox\" ><label for=\"sk-estimator-id-58\" class=\"sk-toggleable__label sk-toggleable__label-arrow\">LinearRegression</label><div class=\"sk-toggleable__content\"><pre>LinearRegression()</pre></div></div></div></div></div></div></div>"
            ]
          },
          "metadata": {},
          "execution_count": 141
        }
      ]
    },
    {
      "cell_type": "markdown",
      "source": [
        "## Evaluate"
      ],
      "metadata": {
        "id": "Wl1nEC4ZJhCR"
      }
    },
    {
      "cell_type": "code",
      "source": [
        "# Predict the train data\n",
        "y_pred_training = model_lr.predict(X_train)\n",
        "\n",
        "# Compute R-squared\n",
        "print(\"Training R-squared:\", round(r2_score(y_train, y_pred_training),2))"
      ],
      "metadata": {
        "colab": {
          "base_uri": "https://localhost:8080/"
        },
        "id": "sAaFdHoJ3Q9h",
        "outputId": "38d81217-cbb1-41a5-a96c-59c0c54a34e9"
      },
      "execution_count": null,
      "outputs": [
        {
          "output_type": "stream",
          "name": "stdout",
          "text": [
            "Training R-squared: 0.65\n"
          ]
        }
      ]
    },
    {
      "cell_type": "markdown",
      "source": [
        "## Cross-Validation\n",
        "\n",
        "We train our model using RandomForest and perform cross-validation for hyper-parameter tuning of our model."
      ],
      "metadata": {
        "id": "XN2haMdbYAbS"
      }
    },
    {
      "cell_type": "code",
      "source": [
        "rf = make_pipeline(\n",
        "    \n",
        "    # encode cat features\n",
        "    OneHotEncoder(use_cat_names=True), \n",
        "    \n",
        "    # Imputation\n",
        "    SimpleImputer(), \n",
        "\n",
        "    # build model\n",
        "    RandomForestRegressor(\n",
        "        n_estimators=75, \n",
        "        max_depth=10, \n",
        "        random_state=42)\n",
        "    ) \n",
        "\n",
        "# fit the model\n",
        "rf.fit(X_train, y_train)"
      ],
      "metadata": {
        "colab": {
          "base_uri": "https://localhost:8080/",
          "height": 159
        },
        "id": "6tqBLzDrajLL",
        "outputId": "d0e5404b-2713-44f2-f52a-294bcc923147"
      },
      "execution_count": null,
      "outputs": [
        {
          "output_type": "execute_result",
          "data": {
            "text/plain": [
              "Pipeline(steps=[('onehotencoder',\n",
              "                 OneHotEncoder(cols=['neighborhood'], use_cat_names=True)),\n",
              "                ('simpleimputer', SimpleImputer()),\n",
              "                ('randomforestregressor',\n",
              "                 RandomForestRegressor(max_depth=10, n_estimators=75,\n",
              "                                       random_state=42))])"
            ],
            "text/html": [
              "<style>#sk-container-id-16 {color: black;background-color: white;}#sk-container-id-16 pre{padding: 0;}#sk-container-id-16 div.sk-toggleable {background-color: white;}#sk-container-id-16 label.sk-toggleable__label {cursor: pointer;display: block;width: 100%;margin-bottom: 0;padding: 0.3em;box-sizing: border-box;text-align: center;}#sk-container-id-16 label.sk-toggleable__label-arrow:before {content: \"▸\";float: left;margin-right: 0.25em;color: #696969;}#sk-container-id-16 label.sk-toggleable__label-arrow:hover:before {color: black;}#sk-container-id-16 div.sk-estimator:hover label.sk-toggleable__label-arrow:before {color: black;}#sk-container-id-16 div.sk-toggleable__content {max-height: 0;max-width: 0;overflow: hidden;text-align: left;background-color: #f0f8ff;}#sk-container-id-16 div.sk-toggleable__content pre {margin: 0.2em;color: black;border-radius: 0.25em;background-color: #f0f8ff;}#sk-container-id-16 input.sk-toggleable__control:checked~div.sk-toggleable__content {max-height: 200px;max-width: 100%;overflow: auto;}#sk-container-id-16 input.sk-toggleable__control:checked~label.sk-toggleable__label-arrow:before {content: \"▾\";}#sk-container-id-16 div.sk-estimator input.sk-toggleable__control:checked~label.sk-toggleable__label {background-color: #d4ebff;}#sk-container-id-16 div.sk-label input.sk-toggleable__control:checked~label.sk-toggleable__label {background-color: #d4ebff;}#sk-container-id-16 input.sk-hidden--visually {border: 0;clip: rect(1px 1px 1px 1px);clip: rect(1px, 1px, 1px, 1px);height: 1px;margin: -1px;overflow: hidden;padding: 0;position: absolute;width: 1px;}#sk-container-id-16 div.sk-estimator {font-family: monospace;background-color: #f0f8ff;border: 1px dotted black;border-radius: 0.25em;box-sizing: border-box;margin-bottom: 0.5em;}#sk-container-id-16 div.sk-estimator:hover {background-color: #d4ebff;}#sk-container-id-16 div.sk-parallel-item::after {content: \"\";width: 100%;border-bottom: 1px solid gray;flex-grow: 1;}#sk-container-id-16 div.sk-label:hover label.sk-toggleable__label {background-color: #d4ebff;}#sk-container-id-16 div.sk-serial::before {content: \"\";position: absolute;border-left: 1px solid gray;box-sizing: border-box;top: 0;bottom: 0;left: 50%;z-index: 0;}#sk-container-id-16 div.sk-serial {display: flex;flex-direction: column;align-items: center;background-color: white;padding-right: 0.2em;padding-left: 0.2em;position: relative;}#sk-container-id-16 div.sk-item {position: relative;z-index: 1;}#sk-container-id-16 div.sk-parallel {display: flex;align-items: stretch;justify-content: center;background-color: white;position: relative;}#sk-container-id-16 div.sk-item::before, #sk-container-id-16 div.sk-parallel-item::before {content: \"\";position: absolute;border-left: 1px solid gray;box-sizing: border-box;top: 0;bottom: 0;left: 50%;z-index: -1;}#sk-container-id-16 div.sk-parallel-item {display: flex;flex-direction: column;z-index: 1;position: relative;background-color: white;}#sk-container-id-16 div.sk-parallel-item:first-child::after {align-self: flex-end;width: 50%;}#sk-container-id-16 div.sk-parallel-item:last-child::after {align-self: flex-start;width: 50%;}#sk-container-id-16 div.sk-parallel-item:only-child::after {width: 0;}#sk-container-id-16 div.sk-dashed-wrapped {border: 1px dashed gray;margin: 0 0.4em 0.5em 0.4em;box-sizing: border-box;padding-bottom: 0.4em;background-color: white;}#sk-container-id-16 div.sk-label label {font-family: monospace;font-weight: bold;display: inline-block;line-height: 1.2em;}#sk-container-id-16 div.sk-label-container {text-align: center;}#sk-container-id-16 div.sk-container {/* jupyter's `normalize.less` sets `[hidden] { display: none; }` but bootstrap.min.css set `[hidden] { display: none !important; }` so we also need the `!important` here to be able to override the default hidden behavior on the sphinx rendered scikit-learn.org. See: https://github.com/scikit-learn/scikit-learn/issues/21755 */display: inline-block !important;position: relative;}#sk-container-id-16 div.sk-text-repr-fallback {display: none;}</style><div id=\"sk-container-id-16\" class=\"sk-top-container\"><div class=\"sk-text-repr-fallback\"><pre>Pipeline(steps=[(&#x27;onehotencoder&#x27;,\n",
              "                 OneHotEncoder(cols=[&#x27;neighborhood&#x27;], use_cat_names=True)),\n",
              "                (&#x27;simpleimputer&#x27;, SimpleImputer()),\n",
              "                (&#x27;randomforestregressor&#x27;,\n",
              "                 RandomForestRegressor(max_depth=10, n_estimators=75,\n",
              "                                       random_state=42))])</pre><b>In a Jupyter environment, please rerun this cell to show the HTML representation or trust the notebook. <br />On GitHub, the HTML representation is unable to render, please try loading this page with nbviewer.org.</b></div><div class=\"sk-container\" hidden><div class=\"sk-item sk-dashed-wrapped\"><div class=\"sk-label-container\"><div class=\"sk-label sk-toggleable\"><input class=\"sk-toggleable__control sk-hidden--visually\" id=\"sk-estimator-id-59\" type=\"checkbox\" ><label for=\"sk-estimator-id-59\" class=\"sk-toggleable__label sk-toggleable__label-arrow\">Pipeline</label><div class=\"sk-toggleable__content\"><pre>Pipeline(steps=[(&#x27;onehotencoder&#x27;,\n",
              "                 OneHotEncoder(cols=[&#x27;neighborhood&#x27;], use_cat_names=True)),\n",
              "                (&#x27;simpleimputer&#x27;, SimpleImputer()),\n",
              "                (&#x27;randomforestregressor&#x27;,\n",
              "                 RandomForestRegressor(max_depth=10, n_estimators=75,\n",
              "                                       random_state=42))])</pre></div></div></div><div class=\"sk-serial\"><div class=\"sk-item\"><div class=\"sk-estimator sk-toggleable\"><input class=\"sk-toggleable__control sk-hidden--visually\" id=\"sk-estimator-id-60\" type=\"checkbox\" ><label for=\"sk-estimator-id-60\" class=\"sk-toggleable__label sk-toggleable__label-arrow\">OneHotEncoder</label><div class=\"sk-toggleable__content\"><pre>OneHotEncoder(cols=[&#x27;neighborhood&#x27;], use_cat_names=True)</pre></div></div></div><div class=\"sk-item\"><div class=\"sk-estimator sk-toggleable\"><input class=\"sk-toggleable__control sk-hidden--visually\" id=\"sk-estimator-id-61\" type=\"checkbox\" ><label for=\"sk-estimator-id-61\" class=\"sk-toggleable__label sk-toggleable__label-arrow\">SimpleImputer</label><div class=\"sk-toggleable__content\"><pre>SimpleImputer()</pre></div></div></div><div class=\"sk-item\"><div class=\"sk-estimator sk-toggleable\"><input class=\"sk-toggleable__control sk-hidden--visually\" id=\"sk-estimator-id-62\" type=\"checkbox\" ><label for=\"sk-estimator-id-62\" class=\"sk-toggleable__label sk-toggleable__label-arrow\">RandomForestRegressor</label><div class=\"sk-toggleable__content\"><pre>RandomForestRegressor(max_depth=10, n_estimators=75, random_state=42)</pre></div></div></div></div></div></div></div>"
            ]
          },
          "metadata": {},
          "execution_count": 143
        }
      ]
    },
    {
      "cell_type": "code",
      "source": [
        "# Predict the train data\n",
        "y_pred_training = rf.predict(X_train)\n",
        "\n",
        "# Compute R-squared\n",
        "print(\"Training R-squared:\", round(r2_score(y_train, y_pred_training),2))"
      ],
      "metadata": {
        "colab": {
          "base_uri": "https://localhost:8080/"
        },
        "id": "MWQNkPq3ajiK",
        "outputId": "50b6619d-39fb-41e7-b499-6b91f3e02dce"
      },
      "execution_count": null,
      "outputs": [
        {
          "output_type": "stream",
          "name": "stdout",
          "text": [
            "Training R-squared: 0.9\n"
          ]
        }
      ]
    },
    {
      "cell_type": "code",
      "source": [
        "from sklearn.model_selection import GridSearchCV, cross_val_score"
      ],
      "metadata": {
        "id": "CjQADCeMYJ_D"
      },
      "execution_count": null,
      "outputs": []
    },
    {
      "cell_type": "code",
      "source": [
        "params = {\n",
        "    \"randomforestregressor__n_estimators\": range(25, 100, 25),\n",
        "    \"randomforestregressor__max_depth\": range(10, 50, 10)\n",
        "}\n",
        "params"
      ],
      "metadata": {
        "colab": {
          "base_uri": "https://localhost:8080/"
        },
        "id": "j9t3FKHQYUli",
        "outputId": "ac7cd8d0-3af7-4383-f287-8d0f52e1e298"
      },
      "execution_count": null,
      "outputs": [
        {
          "output_type": "execute_result",
          "data": {
            "text/plain": [
              "{'randomforestregressor__n_estimators': range(25, 100, 25),\n",
              " 'randomforestregressor__max_depth': range(10, 50, 10)}"
            ]
          },
          "metadata": {},
          "execution_count": 146
        }
      ]
    },
    {
      "cell_type": "code",
      "source": [
        "# max_depth\n",
        "[i for i in range(10, 50, 10)]"
      ],
      "metadata": {
        "colab": {
          "base_uri": "https://localhost:8080/"
        },
        "id": "ymnMhvIfc0lP",
        "outputId": "7d92e98f-9a73-4dc8-e3b2-8c22fdb9ed44"
      },
      "execution_count": null,
      "outputs": [
        {
          "output_type": "execute_result",
          "data": {
            "text/plain": [
              "[10, 20, 30, 40]"
            ]
          },
          "metadata": {},
          "execution_count": 147
        }
      ]
    },
    {
      "cell_type": "code",
      "source": [
        "# n_estimators\n",
        "[j for j in range(25, 100, 25)]"
      ],
      "metadata": {
        "colab": {
          "base_uri": "https://localhost:8080/"
        },
        "id": "8egsbeK8dCTZ",
        "outputId": "c2574a44-681e-4e0e-887f-c7b5a2a43c80"
      },
      "execution_count": null,
      "outputs": [
        {
          "output_type": "execute_result",
          "data": {
            "text/plain": [
              "[25, 50, 75]"
            ]
          },
          "metadata": {},
          "execution_count": 148
        }
      ]
    },
    {
      "cell_type": "code",
      "source": [
        "model = GridSearchCV(\n",
        "    rf,\n",
        "    param_grid=params,\n",
        "    cv=5,\n",
        "    n_jobs=-1,\n",
        "    verbose=1\n",
        ")\n",
        "\n",
        "# Fit the model\n",
        "model.fit(X_train, y_train)"
      ],
      "metadata": {
        "colab": {
          "base_uri": "https://localhost:8080/",
          "height": 203
        },
        "id": "lSVIABfUaJoo",
        "outputId": "cc447a00-e83b-4318-e037-095f64467b96"
      },
      "execution_count": null,
      "outputs": [
        {
          "output_type": "stream",
          "name": "stdout",
          "text": [
            "Fitting 5 folds for each of 12 candidates, totalling 60 fits\n"
          ]
        },
        {
          "output_type": "execute_result",
          "data": {
            "text/plain": [
              "GridSearchCV(cv=5,\n",
              "             estimator=Pipeline(steps=[('onehotencoder',\n",
              "                                        OneHotEncoder(cols=['neighborhood'],\n",
              "                                                      use_cat_names=True)),\n",
              "                                       ('simpleimputer', SimpleImputer()),\n",
              "                                       ('randomforestregressor',\n",
              "                                        RandomForestRegressor(max_depth=10,\n",
              "                                                              n_estimators=75,\n",
              "                                                              random_state=42))]),\n",
              "             n_jobs=-1,\n",
              "             param_grid={'randomforestregressor__max_depth': range(10, 50, 10),\n",
              "                         'randomforestregressor__n_estimators': range(25, 100, 25)},\n",
              "             verbose=1)"
            ],
            "text/html": [
              "<style>#sk-container-id-17 {color: black;background-color: white;}#sk-container-id-17 pre{padding: 0;}#sk-container-id-17 div.sk-toggleable {background-color: white;}#sk-container-id-17 label.sk-toggleable__label {cursor: pointer;display: block;width: 100%;margin-bottom: 0;padding: 0.3em;box-sizing: border-box;text-align: center;}#sk-container-id-17 label.sk-toggleable__label-arrow:before {content: \"▸\";float: left;margin-right: 0.25em;color: #696969;}#sk-container-id-17 label.sk-toggleable__label-arrow:hover:before {color: black;}#sk-container-id-17 div.sk-estimator:hover label.sk-toggleable__label-arrow:before {color: black;}#sk-container-id-17 div.sk-toggleable__content {max-height: 0;max-width: 0;overflow: hidden;text-align: left;background-color: #f0f8ff;}#sk-container-id-17 div.sk-toggleable__content pre {margin: 0.2em;color: black;border-radius: 0.25em;background-color: #f0f8ff;}#sk-container-id-17 input.sk-toggleable__control:checked~div.sk-toggleable__content {max-height: 200px;max-width: 100%;overflow: auto;}#sk-container-id-17 input.sk-toggleable__control:checked~label.sk-toggleable__label-arrow:before {content: \"▾\";}#sk-container-id-17 div.sk-estimator input.sk-toggleable__control:checked~label.sk-toggleable__label {background-color: #d4ebff;}#sk-container-id-17 div.sk-label input.sk-toggleable__control:checked~label.sk-toggleable__label {background-color: #d4ebff;}#sk-container-id-17 input.sk-hidden--visually {border: 0;clip: rect(1px 1px 1px 1px);clip: rect(1px, 1px, 1px, 1px);height: 1px;margin: -1px;overflow: hidden;padding: 0;position: absolute;width: 1px;}#sk-container-id-17 div.sk-estimator {font-family: monospace;background-color: #f0f8ff;border: 1px dotted black;border-radius: 0.25em;box-sizing: border-box;margin-bottom: 0.5em;}#sk-container-id-17 div.sk-estimator:hover {background-color: #d4ebff;}#sk-container-id-17 div.sk-parallel-item::after {content: \"\";width: 100%;border-bottom: 1px solid gray;flex-grow: 1;}#sk-container-id-17 div.sk-label:hover label.sk-toggleable__label {background-color: #d4ebff;}#sk-container-id-17 div.sk-serial::before {content: \"\";position: absolute;border-left: 1px solid gray;box-sizing: border-box;top: 0;bottom: 0;left: 50%;z-index: 0;}#sk-container-id-17 div.sk-serial {display: flex;flex-direction: column;align-items: center;background-color: white;padding-right: 0.2em;padding-left: 0.2em;position: relative;}#sk-container-id-17 div.sk-item {position: relative;z-index: 1;}#sk-container-id-17 div.sk-parallel {display: flex;align-items: stretch;justify-content: center;background-color: white;position: relative;}#sk-container-id-17 div.sk-item::before, #sk-container-id-17 div.sk-parallel-item::before {content: \"\";position: absolute;border-left: 1px solid gray;box-sizing: border-box;top: 0;bottom: 0;left: 50%;z-index: -1;}#sk-container-id-17 div.sk-parallel-item {display: flex;flex-direction: column;z-index: 1;position: relative;background-color: white;}#sk-container-id-17 div.sk-parallel-item:first-child::after {align-self: flex-end;width: 50%;}#sk-container-id-17 div.sk-parallel-item:last-child::after {align-self: flex-start;width: 50%;}#sk-container-id-17 div.sk-parallel-item:only-child::after {width: 0;}#sk-container-id-17 div.sk-dashed-wrapped {border: 1px dashed gray;margin: 0 0.4em 0.5em 0.4em;box-sizing: border-box;padding-bottom: 0.4em;background-color: white;}#sk-container-id-17 div.sk-label label {font-family: monospace;font-weight: bold;display: inline-block;line-height: 1.2em;}#sk-container-id-17 div.sk-label-container {text-align: center;}#sk-container-id-17 div.sk-container {/* jupyter's `normalize.less` sets `[hidden] { display: none; }` but bootstrap.min.css set `[hidden] { display: none !important; }` so we also need the `!important` here to be able to override the default hidden behavior on the sphinx rendered scikit-learn.org. See: https://github.com/scikit-learn/scikit-learn/issues/21755 */display: inline-block !important;position: relative;}#sk-container-id-17 div.sk-text-repr-fallback {display: none;}</style><div id=\"sk-container-id-17\" class=\"sk-top-container\"><div class=\"sk-text-repr-fallback\"><pre>GridSearchCV(cv=5,\n",
              "             estimator=Pipeline(steps=[(&#x27;onehotencoder&#x27;,\n",
              "                                        OneHotEncoder(cols=[&#x27;neighborhood&#x27;],\n",
              "                                                      use_cat_names=True)),\n",
              "                                       (&#x27;simpleimputer&#x27;, SimpleImputer()),\n",
              "                                       (&#x27;randomforestregressor&#x27;,\n",
              "                                        RandomForestRegressor(max_depth=10,\n",
              "                                                              n_estimators=75,\n",
              "                                                              random_state=42))]),\n",
              "             n_jobs=-1,\n",
              "             param_grid={&#x27;randomforestregressor__max_depth&#x27;: range(10, 50, 10),\n",
              "                         &#x27;randomforestregressor__n_estimators&#x27;: range(25, 100, 25)},\n",
              "             verbose=1)</pre><b>In a Jupyter environment, please rerun this cell to show the HTML representation or trust the notebook. <br />On GitHub, the HTML representation is unable to render, please try loading this page with nbviewer.org.</b></div><div class=\"sk-container\" hidden><div class=\"sk-item sk-dashed-wrapped\"><div class=\"sk-label-container\"><div class=\"sk-label sk-toggleable\"><input class=\"sk-toggleable__control sk-hidden--visually\" id=\"sk-estimator-id-63\" type=\"checkbox\" ><label for=\"sk-estimator-id-63\" class=\"sk-toggleable__label sk-toggleable__label-arrow\">GridSearchCV</label><div class=\"sk-toggleable__content\"><pre>GridSearchCV(cv=5,\n",
              "             estimator=Pipeline(steps=[(&#x27;onehotencoder&#x27;,\n",
              "                                        OneHotEncoder(cols=[&#x27;neighborhood&#x27;],\n",
              "                                                      use_cat_names=True)),\n",
              "                                       (&#x27;simpleimputer&#x27;, SimpleImputer()),\n",
              "                                       (&#x27;randomforestregressor&#x27;,\n",
              "                                        RandomForestRegressor(max_depth=10,\n",
              "                                                              n_estimators=75,\n",
              "                                                              random_state=42))]),\n",
              "             n_jobs=-1,\n",
              "             param_grid={&#x27;randomforestregressor__max_depth&#x27;: range(10, 50, 10),\n",
              "                         &#x27;randomforestregressor__n_estimators&#x27;: range(25, 100, 25)},\n",
              "             verbose=1)</pre></div></div></div><div class=\"sk-parallel\"><div class=\"sk-parallel-item\"><div class=\"sk-item\"><div class=\"sk-label-container\"><div class=\"sk-label sk-toggleable\"><input class=\"sk-toggleable__control sk-hidden--visually\" id=\"sk-estimator-id-64\" type=\"checkbox\" ><label for=\"sk-estimator-id-64\" class=\"sk-toggleable__label sk-toggleable__label-arrow\">estimator: Pipeline</label><div class=\"sk-toggleable__content\"><pre>Pipeline(steps=[(&#x27;onehotencoder&#x27;,\n",
              "                 OneHotEncoder(cols=[&#x27;neighborhood&#x27;], use_cat_names=True)),\n",
              "                (&#x27;simpleimputer&#x27;, SimpleImputer()),\n",
              "                (&#x27;randomforestregressor&#x27;,\n",
              "                 RandomForestRegressor(max_depth=10, n_estimators=75,\n",
              "                                       random_state=42))])</pre></div></div></div><div class=\"sk-serial\"><div class=\"sk-item\"><div class=\"sk-serial\"><div class=\"sk-item\"><div class=\"sk-estimator sk-toggleable\"><input class=\"sk-toggleable__control sk-hidden--visually\" id=\"sk-estimator-id-65\" type=\"checkbox\" ><label for=\"sk-estimator-id-65\" class=\"sk-toggleable__label sk-toggleable__label-arrow\">OneHotEncoder</label><div class=\"sk-toggleable__content\"><pre>OneHotEncoder(cols=[&#x27;neighborhood&#x27;], use_cat_names=True)</pre></div></div></div><div class=\"sk-item\"><div class=\"sk-estimator sk-toggleable\"><input class=\"sk-toggleable__control sk-hidden--visually\" id=\"sk-estimator-id-66\" type=\"checkbox\" ><label for=\"sk-estimator-id-66\" class=\"sk-toggleable__label sk-toggleable__label-arrow\">SimpleImputer</label><div class=\"sk-toggleable__content\"><pre>SimpleImputer()</pre></div></div></div><div class=\"sk-item\"><div class=\"sk-estimator sk-toggleable\"><input class=\"sk-toggleable__control sk-hidden--visually\" id=\"sk-estimator-id-67\" type=\"checkbox\" ><label for=\"sk-estimator-id-67\" class=\"sk-toggleable__label sk-toggleable__label-arrow\">RandomForestRegressor</label><div class=\"sk-toggleable__content\"><pre>RandomForestRegressor(max_depth=10, n_estimators=75, random_state=42)</pre></div></div></div></div></div></div></div></div></div></div></div></div>"
            ]
          },
          "metadata": {},
          "execution_count": 149
        }
      ]
    },
    {
      "cell_type": "code",
      "source": [
        "cross_val_score(rf, X_train, y_train, cv=5, n_jobs=-1)\n",
        "cv_results = pd.DataFrame(model.cv_results_)\n",
        "model.best_score_"
      ],
      "metadata": {
        "colab": {
          "base_uri": "https://localhost:8080/"
        },
        "id": "u-2SYjNNdqSK",
        "outputId": "14b5d87c-b6e9-488d-ae08-d136cd91cb6b"
      },
      "execution_count": null,
      "outputs": [
        {
          "output_type": "execute_result",
          "data": {
            "text/plain": [
              "0.46301038905349257"
            ]
          },
          "metadata": {},
          "execution_count": 150
        }
      ]
    },
    {
      "cell_type": "markdown",
      "source": [
        "# **Communicate Results**"
      ],
      "metadata": {
        "id": "G2J9rcv9I3b5"
      }
    },
    {
      "cell_type": "markdown",
      "source": [
        "### Feature Importance"
      ],
      "metadata": {
        "id": "emQBbXoW194p"
      }
    },
    {
      "cell_type": "code",
      "source": [
        "coefficients = model_lr.named_steps.linearregression.coef_\n",
        "features = rf.named_steps[\"onehotencoder\"].get_feature_names()\n",
        "feat_imp = pd.Series(coefficients, index=features)\n",
        "feat_imp.sort_values(ascending=True).tail(10).plot(kind=\"barh\");"
      ],
      "metadata": {
        "colab": {
          "base_uri": "https://localhost:8080/",
          "height": 448
        },
        "id": "kkHucvvZ5tXl",
        "outputId": "c004df24-d8b2-45cc-c9e1-b6a81338eccc"
      },
      "execution_count": null,
      "outputs": [
        {
          "output_type": "display_data",
          "data": {
            "text/plain": [
              "<Figure size 640x480 with 1 Axes>"
            ],
            "image/png": "[encoded data removed]"
          },
          "metadata": {}
        }
      ]
    },
    {
      "cell_type": "code",
      "source": [
        "def make_prediction(area, lat, lon, neighborhood):\n",
        "\n",
        "    # Creating a dictionary for the new data\n",
        "    data = {\n",
        "        \"lat\": lat,\n",
        "        \"lon\": lon,   \n",
        "        \"surface_covered_in_m2\": area, \n",
        "        \"neighborhood\": neighborhood\n",
        "    }\n",
        "    \n",
        "    # Create a DataFrame\n",
        "    df = pd.DataFrame(data, index=[0])\n",
        "    prediction = model.predict(df).round(2)[0]\n",
        "    return f\"Predicted house price: ${prediction}\""
      ],
      "metadata": {
        "id": "MUTksS0-5Bi4"
      },
      "execution_count": null,
      "outputs": []
    },
    {
      "cell_type": "code",
      "source": [
        "make_prediction(-34.60, -38.46, 110, \"Saavedra\")"
      ],
      "metadata": {
        "colab": {
          "base_uri": "https://localhost:8080/",
          "height": 36
        },
        "id": "UdXYkryB5Mqf",
        "outputId": "1884f028-c839-4402-9073-1721db243d13"
      },
      "execution_count": null,
      "outputs": [
        {
          "output_type": "execute_result",
          "data": {
            "text/plain": [
              "'Predicted house price: $78220.0'"
            ],
            "application/vnd.google.colaboratory.intrinsic+json": {
              "type": "string"
            }
          },
          "metadata": {},
          "execution_count": 153
        }
      ]
    },
    {
      "cell_type": "code",
      "source": [
        "from ipywidgets import Dropdown, FloatSlider, IntSlider, interact\n",
        "interact(\n",
        "    make_prediction,\n",
        "    area=IntSlider(\n",
        "        min=X_train[\"surface_covered_in_m2\"].min(),\n",
        "        max=X_train[\"surface_covered_in_m2\"].max(),\n",
        "        value=X_train[\"surface_covered_in_m2\"].mean(),\n",
        "    ),\n",
        "    lat=FloatSlider(\n",
        "        min=X_train[\"lat\"].min(),\n",
        "        max=X_train[\"lat\"].max(),\n",
        "        step=0.01,\n",
        "        value=X_train[\"lat\"].mean(),\n",
        "    ),\n",
        "    lon=FloatSlider(\n",
        "        min=X_train[\"lon\"].min(),\n",
        "        max=X_train[\"lon\"].max(),\n",
        "        step=0.01,\n",
        "        value=X_train[\"lon\"].mean(),\n",
        "    ),\n",
        "    neighborhood=Dropdown(options=sorted(X_train[\"neighborhood\"].unique()), value=\"Boca\"),\n",
        ");"
      ],
      "metadata": {
        "colab": {
          "base_uri": "https://localhost:8080/",
          "height": 164,
          "referenced_widgets": [
            "7ba348b13c884eee9a5d8b88615f98bc",
            "79771773d835449f880eb9e9616b319d",
            "e678d975d5754b86abd0711aff53978c",
            "ed8c38c9d1814150be24f991baf47b11",
            "6f4a122c7a2046a8abe7f4f255cb6937",
            "30947a6e8e944caea87e5a9fb0efd17b",
            "9fa06845b9274f76a4866f7b633b8a4c",
            "2a7162996d574836acf02cabf4335969",
            "0d1b4f4e623e452a90b22f6a0d519302",
            "3596510c0a9246b4bc1b7a8f5a239e93",
            "61d51e406289470cb4712a7d71442a45",
            "e2dd4bd1a44c4148819ef2a2c02e8aa7",
            "b8823e6855ce4baa82a1db85b9081b8a",
            "832bd75c01c041ec92ef5c335079aaa4",
            "86776a9d12b14ab39926d2f0aac54290",
            "29e1e623c89444bdb2c46b819852e3d4"
          ]
        },
        "id": "9N4qZ2805QVn",
        "outputId": "098ef2e8-cc1f-44bd-f5ff-bcf98fc5d7d8"
      },
      "execution_count": null,
      "outputs": [
        {
          "output_type": "display_data",
          "data": {
            "text/plain": [
              "interactive(children=(IntSlider(value=151, description='area', max=290, min=22), FloatSlider(value=-34.6189239…"
            ],
            "application/vnd.jupyter.widget-view+json": {
              "version_major": 2,
              "version_minor": 0,
              "model_id": "7ba348b13c884eee9a5d8b88615f98bc"
            }
          },
          "metadata": {}
        }
      ]
    }
  ]
}